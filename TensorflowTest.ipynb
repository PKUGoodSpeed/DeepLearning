{
 "cells": [
  {
   "cell_type": "markdown",
   "metadata": {},
   "source": [
    "### TensorFlow Neural Net Work\n",
    "\n",
    "##### Running example: Train a two-layer ReLU network on random data with L2 loss"
   ]
  },
  {
   "cell_type": "code",
   "execution_count": 1,
   "metadata": {
    "collapsed": true
   },
   "outputs": [],
   "source": [
    "import numpy as np\n",
    "np.random.seed(0)\n",
    "import tensorflow as tf"
   ]
  },
  {
   "cell_type": "markdown",
   "metadata": {},
   "source": [
    "###### Define basic input features and weights (not doing actual computaions yet)"
   ]
  },
  {
   "cell_type": "code",
   "execution_count": 2,
   "metadata": {
    "collapsed": false
   },
   "outputs": [
    {
     "name": "stdout",
     "output_type": "stream",
     "text": [
      "Tensor(\"Placeholder:0\", shape=(64, 1000), dtype=float32) Tensor(\"Placeholder_1:0\", shape=(64, 1000), dtype=float32) Tensor(\"Placeholder_2:0\", shape=(1000, 100), dtype=float32) Tensor(\"Placeholder_3:0\", shape=(100, 1000), dtype=float32)\n"
     ]
    }
   ],
   "source": [
    "N, D, H = 64, 1000, 100\n",
    "x = tf.placeholder(tf.float32, shape=(N,D))\n",
    "y = tf.placeholder(tf.float32, shape=(N,D))\n",
    "w1 = tf.placeholder(tf.float32, shape=(D,H))\n",
    "w2 = tf.placeholder(tf.float32, shape=(H,D))\n",
    "print(x,y,w1,w2)"
   ]
  },
  {
   "cell_type": "markdown",
   "metadata": {},
   "source": [
    "###### Define network structure, including the ReLU activation function. (Haven't done any actual computaitons yet.)"
   ]
  },
  {
   "cell_type": "code",
   "execution_count": 3,
   "metadata": {
    "collapsed": false
   },
   "outputs": [
    {
     "name": "stdout",
     "output_type": "stream",
     "text": [
      "Tensor(\"Maximum:0\", shape=(64, 100), dtype=float32) Tensor(\"MatMul_1:0\", shape=(64, 1000), dtype=float32) Tensor(\"sub:0\", shape=(64, 1000), dtype=float32) Tensor(\"Mean:0\", shape=(), dtype=float32)\n"
     ]
    }
   ],
   "source": [
    "h = tf.maximum(tf.matmul(x,w1),0)\n",
    "y_pred = tf.matmul(h, w2)\n",
    "diff = y_pred - y\n",
    "loss = tf.reduce_mean(tf.reduce_sum(diff**2, axis=1))\n",
    "print(h,y_pred,diff,loss)"
   ]
  },
  {
   "cell_type": "code",
   "execution_count": 4,
   "metadata": {
    "collapsed": true
   },
   "outputs": [],
   "source": [
    "grad_w1, grad_w2 = tf.gradients(loss,[w1, w2])"
   ]
  },
  {
   "cell_type": "markdown",
   "metadata": {},
   "source": [
    "###### Start a tenserflow session to actually compute the gradients"
   ]
  },
  {
   "cell_type": "code",
   "execution_count": 5,
   "metadata": {
    "collapsed": false
   },
   "outputs": [],
   "source": [
    "with tf.Session() as sess:\n",
    "    values = {\n",
    "        #Data goint to feed features\n",
    "        x: np.random.randn(N,D),\n",
    "        w1: np.random.randn(D,H),\n",
    "        w2: np.random.randn(H,D),\n",
    "        y: np.random.randn(N, D),\n",
    "    }\n",
    "    out = sess.run([loss, grad_w1, grad_w2], feed_dict=values)\n",
    "    loss_val, grad_w1_val, grad_w2_val = out"
   ]
  },
  {
   "cell_type": "markdown",
   "metadata": {},
   "source": [
    "###### Show results"
   ]
  },
  {
   "cell_type": "code",
   "execution_count": 6,
   "metadata": {
    "collapsed": false
   },
   "outputs": [
    {
     "name": "stdout",
     "output_type": "stream",
     "text": [
      "4.67132e+07 [[  1993.07446289   1433.74084473  -6547.23779297 ...,  -2660.55175781\n",
      "   -5083.46582031    224.11407471]\n",
      " [ -1748.91760254  -9538.86132812  -7128.19775391 ...,   2665.00952148\n",
      "   -1504.69262695  -1215.81152344]\n",
      " [  4001.55053711  -4863.85644531   -216.6546936  ...,  -9496.33300781\n",
      "    5365.66699219   4971.18554688]\n",
      " ..., \n",
      " [  8983.19921875   -195.6338501    6616.16357422 ...,   -137.62329102\n",
      "    5260.58349609   7846.08203125]\n",
      " [  5408.36132812  12963.07421875  -1194.6315918  ...,   6626.21582031\n",
      "    2942.28613281   1405.20056152]\n",
      " [ -4236.54003906  -2246.62133789  -2337.37646484 ...,   2661.86962891\n",
      "   -8126.07666016  -4260.46337891]] [[-4028.81396484  2075.53540039 -3470.56835938 ...,   980.02172852\n",
      "  -2151.14501953  -686.86523438]\n",
      " [-5455.60449219  1949.5369873  -3633.4699707  ...,  1486.9621582\n",
      "  -3621.15283203  -696.05957031]\n",
      " [-4417.3125       217.93934631 -3687.92773438 ...,   116.03752899\n",
      "   -301.58145142  -672.34613037]\n",
      " ..., \n",
      " [-2987.79418945  2148.71289062  -908.92675781 ..., -2304.75805664\n",
      "  -2348.14111328  -432.96127319]\n",
      " [-3914.37207031  1345.89611816 -3259.26171875 ...,   505.64776611\n",
      "  -1582.19335938  -551.86578369]\n",
      " [-2317.01733398   265.70697021 -2223.48535156 ...,  1624.52880859\n",
      "  -2161.5559082   -571.87414551]]\n"
     ]
    }
   ],
   "source": [
    "print(loss_val, grad_w1_val, grad_w2_val)"
   ]
  },
  {
   "cell_type": "markdown",
   "metadata": {},
   "source": [
    "###### Do an actual training"
   ]
  },
  {
   "cell_type": "code",
   "execution_count": 7,
   "metadata": {
    "collapsed": true
   },
   "outputs": [],
   "source": [
    "loss_list = []\n",
    "time_list = []\n",
    "with tf.Session() as sess:\n",
    "    values = {\n",
    "        x: np.random.randn(N,D),\n",
    "        w1: np.random.randn(D,H),\n",
    "        w2: np.random.randn(H,D),\n",
    "        y: np.random.randn(N,D),\n",
    "    }\n",
    "    learning_rate = 1.e-5\n",
    "    for t in range(50):\n",
    "        out = sess.run([loss, grad_w1, grad_w2], feed_dict = values)\n",
    "        loss_val, grad_w1_val, grad_w2_val = out\n",
    "        loss_list.append(loss_val)\n",
    "        time_list.append(t)\n",
    "        values[w1] -= learning_rate * grad_w1_val\n",
    "        values[w2] -= learning_rate * grad_w2_val"
   ]
  },
  {
   "cell_type": "markdown",
   "metadata": {},
   "source": [
    "###### Show results"
   ]
  },
  {
   "cell_type": "code",
   "execution_count": 8,
   "metadata": {
    "collapsed": false
   },
   "outputs": [
    {
     "name": "stdout",
     "output_type": "stream",
     "text": [
      "[[-0.62102481 -0.20429261  0.19363965 ...,  1.31852027  1.8865433\n",
      "  -0.81358832]\n",
      " [ 1.00092098  0.28517535  0.76765162 ..., -1.12421825  0.80166655\n",
      "  -0.15130778]\n",
      " [ 0.28070408 -1.42655274  0.94315317 ...,  1.9262112  -1.71161578\n",
      "  -1.70613816]\n",
      " ..., \n",
      " [-0.81769029 -1.25345581 -1.73292072 ..., -0.59625048 -1.69203151\n",
      "   0.30247688]\n",
      " [-0.85318372  0.58782642 -0.17881999 ...,  0.4985984  -0.69526663\n",
      "  -0.67451051]\n",
      " [ 1.00121214  1.54403796  0.08750898 ..., -0.95129331 -0.18838292\n",
      "  -0.91431809]] [[ 0.34087574 -0.75061973  0.3601671  ...,  0.29817607  1.38872244\n",
      "  -0.93433016]\n",
      " [ 0.19543549  0.91492238 -1.08968683 ..., -1.01829646  0.82091191\n",
      "   0.43878427]\n",
      " [ 0.59300599  0.41233396  0.58618533 ..., -0.37467096 -0.78493843\n",
      "   0.17037174]\n",
      " ..., \n",
      " [ 0.85347367  0.00710934 -0.7721734  ...,  1.3907445   0.26834665\n",
      "  -1.20494967]\n",
      " [ 0.00650587  1.80777165  0.52628629 ..., -0.23999514  0.01933906\n",
      "   0.69093444]\n",
      " [ 0.13617044 -0.99969005  0.38464579 ...,  0.10537419 -1.03766246\n",
      "   0.62095206]]\n"
     ]
    }
   ],
   "source": [
    "print(values[w1], values[w2])"
   ]
  },
  {
   "cell_type": "markdown",
   "metadata": {},
   "source": [
    "###### Graphically showing the results: plot the loss function versus time"
   ]
  },
  {
   "cell_type": "code",
   "execution_count": 26,
   "metadata": {
    "collapsed": false
   },
   "outputs": [],
   "source": [
    "import matplotlib\n",
    "import matplotlib.pyplot as plt\n",
    "import matplotlib as mpl\n",
    "%matplotlib inline \n",
    "\n",
    "mpl.rc('font',family='Times New Roman',size = 25)\n",
    "mpl.rcParams['xtick.major.size'] = 5\n",
    "mpl.rcParams['xtick.minor.size'] = 2\n",
    "mpl.rcParams['ytick.major.size'] = 5\n",
    "mpl.rcParams['ytick.minor.size'] = 2"
   ]
  },
  {
   "cell_type": "code",
   "execution_count": 36,
   "metadata": {
    "collapsed": false
   },
   "outputs": [
    {
     "data": {
      "image/png": "[encoded data removed]",
      "text/plain": [
       "<matplotlib.figure.Figure at 0x11823bda0>"
      ]
     },
     "metadata": {},
     "output_type": "display_data"
    }
   ],
   "source": [
    "fig,ax  = plt.subplots(1,2,figsize=(16,6))\n",
    "ax[0].scatter(time_list, loss_list)\n",
    "ax[0].set_xlabel(\"Number of steps\")\n",
    "ax[0].set_ylabel(\"Loss function\")\n",
    "ax[1].scatter(time_list, loss_list)\n",
    "ax[1].set_xlabel(\"Number of steps\")\n",
    "#ax[1].set_ylabel(\"Loss function\")\n",
    "ax[1].set_yscale(\"log\")\n",
    "plt.show()"
   ]
  },
  {
   "cell_type": "code",
   "execution_count": 11,
   "metadata": {
    "collapsed": false
   },
   "outputs": [],
   "source": []
  },
  {
   "cell_type": "code",
   "execution_count": 19,
   "metadata": {
    "collapsed": true
   },
   "outputs": [],
   "source": []
  },
  {
   "cell_type": "code",
   "execution_count": null,
   "metadata": {
    "collapsed": true
   },
   "outputs": [],
   "source": []
  }
 ],
 "metadata": {
  "kernelspec": {
   "display_name": "Python 3",
   "language": "python",
   "name": "python3"
  },
  "language_info": {
   "codemirror_mode": {
    "name": "ipython",
    "version": 3
   },
   "file_extension": ".py",
   "mimetype": "text/x-python",
   "name": "python",
   "nbconvert_exporter": "python",
   "pygments_lexer": "ipython3",
   "version": "3.5.4"
  }
 },
 "nbformat": 4,
 "nbformat_minor": 0
}
