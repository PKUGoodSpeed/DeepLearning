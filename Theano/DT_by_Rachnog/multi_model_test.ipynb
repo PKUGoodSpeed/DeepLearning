{
 "cells": [
  {
   "cell_type": "markdown",
   "metadata": {},
   "source": [
    "##### Import necessary packages"
   ]
  },
  {
   "cell_type": "code",
   "execution_count": 110,
   "metadata": {
    "collapsed": true
   },
   "outputs": [],
   "source": [
    "import sys\n",
    "sys.path.append('../csv_data')"
   ]
  },
  {
   "cell_type": "code",
   "execution_count": 111,
   "metadata": {
    "collapsed": false
   },
   "outputs": [],
   "source": [
    "from keras.models import Sequential\n",
    "from keras.models import Model\n",
    "from keras.layers.core import Dense, Dropout, Activation, Flatten, Permute\n",
    "from keras.layers import Merge, Input, concatenate, average, add\n",
    "from keras.layers.recurrent import LSTM, GRU\n",
    "from keras.layers import Convolution1D, MaxPooling1D, AtrousConvolution1D, RepeatVector, AveragePooling1D\n",
    "from keras.callbacks import ModelCheckpoint, ReduceLROnPlateau, CSVLogger\n",
    "from keras.layers.wrappers import Bidirectional, TimeDistributed\n",
    "from keras import regularizers\n",
    "from keras.layers.normalization import BatchNormalization\n",
    "from keras.layers.advanced_activations import *\n",
    "from keras.optimizers import RMSprop, Adam, SGD, Nadam\n",
    "from keras.initializers import *\n",
    "from keras.constraints import *\n",
    "from keras import regularizers\n",
    "from keras import losses\n",
    "\n",
    "#Visualization\n",
    "%matplotlib inline\n",
    "import matplotlib.pyplot as plt\n",
    "import seaborn as sns"
   ]
  },
  {
   "cell_type": "code",
   "execution_count": 112,
   "metadata": {
    "collapsed": true
   },
   "outputs": [],
   "source": [
    "import pandas as pd\n",
    "from pandas import Series,DataFrame\n",
    "import numpy as np\n",
    "import time\n",
    "from datetime import date\n",
    "from nltk.corpus import stopwords\n",
    "from nltk.tokenize import RegexpTokenizer\n",
    "from nltk.stem.porter import PorterStemmer"
   ]
  },
  {
   "cell_type": "code",
   "execution_count": 113,
   "metadata": {
    "collapsed": true
   },
   "outputs": [],
   "source": [
    "import _pickle as cPickle\n",
    "\n",
    "from gensim.models import Word2Vec\n",
    "import logging\n",
    "logging.basicConfig(format='%(asctime)s: %(levelname)s: %(message)s')"
   ]
  },
  {
   "cell_type": "markdown",
   "metadata": {},
   "source": [
    "###### Functions for loading data"
   ]
  },
  {
   "cell_type": "code",
   "execution_count": 114,
   "metadata": {
    "collapsed": false
   },
   "outputs": [],
   "source": [
    "def load_text_csv(filename = 'multimodel/Combined_News_DJIA.csv', date_split = date(2014,12,31)):\n",
    "    '''\n",
    "    Load news from csv, group them and split in train/test set due to @date_split\n",
    "    '''\n",
    "    df = pd.read_csv(filename)\n",
    "    df['Combined']=df.iloc[:,2:27].apply(lambda row: ''.join(str(row.values)), axis=1)\n",
    "    \n",
    "    train = df.loc[(pd.to_datetime(df[\"Date\"]) <= date_split),['Label','Combined']]\n",
    "    test = df.loc[(pd.to_datetime(df[\"Date\"]) > date_split),['Label','Combined']]\n",
    "    \n",
    "    return train, test"
   ]
  },
  {
   "cell_type": "code",
   "execution_count": 115,
   "metadata": {
    "collapsed": false
   },
   "outputs": [
    {
     "name": "stdout",
     "output_type": "stream",
     "text": [
      "1611 378\n",
      "<class 'pandas.core.frame.DataFrame'>\n",
      "      Label                                           Combined\n",
      "1611      1  [ 'Most cases of cancer are the result of shee...\n",
      "1612      0  [ 'Moscow-&gt;Beijing high speed train will re...\n",
      "1613      0  ['US oil falls below $50 a barrel'\\n \"Toyota g...\n",
      "1614      1  [\"'Shots fired' at French magazine HQ\"\\n '90% ...\n",
      "1615      1  [ 'New Charlie Hebdo issue to come out next we...\n"
     ]
    }
   ],
   "source": [
    "'''Using news as a input!!'''\n",
    "train, test = load_text_csv()\n",
    "print(len(train), len(test))\n",
    "print(type(test))\n",
    "print(test[:5])"
   ]
  },
  {
   "cell_type": "code",
   "execution_count": 116,
   "metadata": {
    "collapsed": true
   },
   "outputs": [],
   "source": [
    "def data2change(data):\n",
    "    change = pd.DataFrame(data).pct_change()\n",
    "    change = change.replace([np.inf, -np.inf], np.nan)\n",
    "    change = change.fillna(0.).values.tolist()\n",
    "    change = [c[0] for c in change]\n",
    "    return change"
   ]
  },
  {
   "cell_type": "code",
   "execution_count": 117,
   "metadata": {
    "collapsed": true
   },
   "outputs": [],
   "source": [
    "def load_ts_csv(filename = 'multimodel/DJIA_table.csv', date_split = date(2014,12,31)):\n",
    "    '''\n",
    "    Load time series from csv, taking adjustment close prices;\n",
    "    transforming them into percentage of price change;\n",
    "    split in train/test set due to @date_split\n",
    "    '''\n",
    "    \n",
    "    data_original = pd.read_csv(filename)[::-1]\n",
    "    \n",
    "    train2 = data_original.loc[(pd.to_datetime(data_original[\"Date\"]) <= date_split)]\n",
    "    test2 = data_original.loc[(pd.to_datetime(data_original[\"Date\"]) > date_split)]\n",
    "    \n",
    "    open_train = train2.loc[:, 'Open']\n",
    "    open_test = test2.loc[:, 'Open']\n",
    "    \n",
    "    high_train = train2.loc[:, 'High']\n",
    "    high_test = test2.loc[:, 'High']\n",
    "    \n",
    "    low_train = train2.loc[:, 'Low']\n",
    "    low_test = test2.loc[:, 'Low']\n",
    "    \n",
    "    close_train = train2.loc[:, 'Close']\n",
    "    close_test = test2.loc[:, 'Close']\n",
    "    \n",
    "    volume_train = train2.loc[:, 'Volume']\n",
    "    volume_test = test2.loc[:, 'Volume']\n",
    "    \n",
    "    open_train = data2change(open_train)\n",
    "    open_test = data2change(open_test)\n",
    "    \n",
    "    high_train = data2change(high_train)\n",
    "    high_test = data2change(high_test)\n",
    "    \n",
    "    low_train = data2change(low_train)\n",
    "    low_test = data2change(low_test)\n",
    "    \n",
    "    close_test = data2change(close_test)\n",
    "    close_train = data2change(close_train)\n",
    "    \n",
    "    volume_train = data2change(volume_train)\n",
    "    volume_test = data2change(volume_test)\n",
    "    \n",
    "    train = np.column_stack((open_train, high_train, low_train, close_train, volume_train))\n",
    "    test = np.column_stack((open_test, high_test, low_test, close_test, volume_test))\n",
    "    \n",
    "    print(train.shape)\n",
    "    print(test.shape)\n",
    "    \n",
    "    return train, test"
   ]
  },
  {
   "cell_type": "code",
   "execution_count": 118,
   "metadata": {
    "collapsed": false
   },
   "outputs": [
    {
     "name": "stdout",
     "output_type": "stream",
     "text": [
      "(1611, 5)\n",
      "(378, 5)\n",
      "1611 378\n",
      "[[  0.00000000e+00   0.00000000e+00   0.00000000e+00   0.00000000e+00\n",
      "    0.00000000e+00]\n",
      " [ -9.92831745e-05  -7.26827764e-03  -1.44022763e-02  -1.85801617e-02\n",
      "    5.23010358e-01]\n",
      " [ -1.77944975e-02  -1.34810586e-02  -1.22202682e-02  -7.42842893e-03\n",
      "   -1.23019972e-01]\n",
      " [ -7.39254243e-03   9.11737142e-04   6.51186144e-03   1.22543927e-02\n",
      "   -1.06410131e-01]\n",
      " [  1.25003836e-02   1.81256767e-02   1.25003836e-02   1.83883108e-02\n",
      "    2.62111392e-01]]\n"
     ]
    }
   ],
   "source": [
    "'''[open price, high price, low price, close price, volume]'''\n",
    "data_chng_train, data_chng_test = load_ts_csv()\n",
    "print(len(data_chng_train), len(data_chng_test))\n",
    "print(data_chng_test[:5])"
   ]
  },
  {
   "cell_type": "markdown",
   "metadata": {},
   "source": [
    "###### Processing Data"
   ]
  },
  {
   "cell_type": "code",
   "execution_count": 119,
   "metadata": {
    "collapsed": false
   },
   "outputs": [],
   "source": [
    "def transform_text_into_vectors(train_text, test_text, embedding_size = 100, model_path = 'word2vec10.model'):\n",
    "    '''\n",
    "        Transforms sentences into sequences of word2vec vectors\n",
    "        Returns train, test set and trained word2vec model\n",
    "    '''\n",
    "    data_for_w2v = []\n",
    "    for text in train_text + test_text:\n",
    "        words = text.split(' ')\n",
    "        data_for_w2v.append(words)\n",
    "\n",
    "    model = Word2Vec(data_for_w2v, size=embedding_size, window=5, min_count=1, workers=4)\n",
    "    model.save(model_path)\n",
    "    model = Word2Vec.load(model_path)\n",
    "\n",
    "    train_text_vectors = [[model[x] for x in sentence.split(' ')] for sentence in train_text]\n",
    "    test_text_vectors = [[model[x] for x in sentence.split(' ')] for sentence in test_text]\n",
    "\n",
    "    train_text_vectors = [np.mean(x, axis=0) for x in train_text_vectors]\n",
    "    test_text_vectors = [np.mean(x, axis=0) for x in test_text_vectors]\n",
    "\n",
    "    return train_text_vectors, test_text_vectors, model"
   ]
  },
  {
   "cell_type": "code",
   "execution_count": 120,
   "metadata": {
    "collapsed": false
   },
   "outputs": [
    {
     "name": "stdout",
     "output_type": "stream",
     "text": [
      "1611 378\n",
      "['case cancer result sheer bad luck rather unhealthi lifestyl diet even inherit gene new research suggest random mutat occur dna cell divid respons two third adult cancer across wide rang tissu iran dismiss unit state effort fight islam state ploy advanc u polici region realiti unit state act elimin daesh even interest weaken daesh interest manag poll one 8 german would join anti muslim march uk royal famili princ andrew name us lawsuit underag sex alleg 40 asylum seeker refus leav bu arriv destin rural northern sweden demand taken back malm big citi pakistani boat blow self india navi chase four peopl board vessel near pakistani port citi karachi believ kill dramat episod arabian sea new year eve accord india defenc ministri sweden hit third mosqu arson attack week 940 car set alight french new year salari top ceo rose twice fast averag canadian sinc recess studi norway violat equal pay law judg say judg find consul employe unjustli paid 30 000 less male counterpart imam want radic recruit muslim youth canada identifi dealt saudi arabia behead 83 peopl 2014 year live hell slave remot south korean island slaveri thrive chain rural island south korea rug southwest coast nurtur long histori exploit demand tri squeez live sea world 400 richest get richer ad 92bn 2014 rental car stereo infring copyright music right group say ukrainian minist threaten tv channel closur air russian entertain palestinian presid mahmoud abba enter seriou confront yet israel sign onto intern crimin court decis wednesday give court jurisdict crime commit palestinian land isra secur center publish name 50 kill terrorist conceal hama year 2014 deadliest year yet syria four year conflict 76 000 kill secret underground complex built nazi may use develop wmd includ nuclear bomb uncov austria restrict web freedom major global issu 2015 austrian journalist erich mchel deliv present hamburg annual meet chao comput club monday decemb 29 detail variou locat us nsa activ collect process electron intellig vienna thousand ukrain nationalist march kiev china new year resolut harvest execut prison organ author pull plug russia last polit independ tv station']\n"
     ]
    }
   ],
   "source": [
    "train_text = cPickle.load(open('multimodel/train_text.p', 'rb'))[:]\n",
    "test_text = cPickle.load(open('multimodel/test_text.p', 'rb'))[:]\n",
    "print(len(train_text), len(test_text))\n",
    "print(test_text[:1])"
   ]
  },
  {
   "cell_type": "code",
   "execution_count": 121,
   "metadata": {
    "collapsed": false
   },
   "outputs": [
    {
     "name": "stdout",
     "output_type": "stream",
     "text": [
      "1611 378\n",
      "<class 'gensim.models.word2vec.Word2Vec'>\n",
      "[array([  7.04339743e-02,   3.90487701e-01,  -5.20477891e-02,\n",
      "        -3.22473109e-01,   6.54451773e-02,  -3.48789215e-01,\n",
      "         3.16370666e-01,  -3.95053744e-01,  -7.10589170e-01,\n",
      "         2.81793982e-01,  -8.34351331e-02,  -4.39769208e-01,\n",
      "        -4.28961635e-01,   4.16660935e-01,   2.72161812e-01,\n",
      "        -3.54525268e-01,  -2.05096290e-01,  -4.45461392e-01,\n",
      "         3.99229497e-01,  -1.68372840e-01,   1.27289474e-01,\n",
      "        -1.84600785e-01,  -4.23597127e-01,   2.07033977e-01,\n",
      "        -1.77551717e-01,   5.36276877e-01,   3.06709737e-01,\n",
      "        -6.80167526e-02,   9.50721186e-03,   1.25350937e-01,\n",
      "        -1.38251364e-01,   2.89648592e-01,  -5.32856584e-02,\n",
      "         3.15650910e-01,   1.41548701e-02,  -3.28086950e-02,\n",
      "        -2.14281231e-02,   4.97224033e-02,  -2.95984864e-01,\n",
      "         3.00398558e-01,  -2.59565383e-01,   2.43289217e-01,\n",
      "        -2.00663671e-01,  -2.01147169e-01,   1.34392247e-01,\n",
      "         2.11744174e-01,  -5.25576115e-01,   3.96359675e-02,\n",
      "         2.00337067e-01,  -5.31386614e-01,  -2.45555714e-01,\n",
      "         5.15287638e-01,   3.04564536e-01,   2.31091455e-01,\n",
      "         1.38959065e-01,   4.50967774e-02,   2.98872560e-01,\n",
      "        -6.28586471e-01,   6.15751408e-02,   1.18602194e-01,\n",
      "         4.38356459e-01,   1.52266935e-01,  -3.74480754e-01,\n",
      "        -2.42150128e-01,   3.49571824e-01,   4.88171935e-01,\n",
      "        -3.61538321e-01,  -7.41063952e-02,   1.18473418e-01,\n",
      "         1.81439355e-01,  -2.44048089e-01,   7.29309499e-01,\n",
      "        -4.04043108e-01,  -3.00168902e-01,   2.34607771e-01,\n",
      "         5.59390306e-01,  -3.16317886e-01,  -6.27222359e-02,\n",
      "         5.30708969e-01,  -1.11729309e-01,  -1.03173411e+00,\n",
      "         9.57334042e-02,  -1.89394772e-01,  -2.42730901e-01,\n",
      "         3.68000090e-01,  -4.19683814e-01,   2.98569202e-01,\n",
      "        -3.11590880e-02,  -1.77814439e-01,   4.56437618e-01,\n",
      "         1.28353745e-01,  -4.30228114e-01,  -1.67397112e-01,\n",
      "        -2.51046747e-01,   2.88812935e-01,   5.55730797e-03,\n",
      "        -1.49165154e-01,  -1.02720666e-03,   5.42043522e-02,\n",
      "         2.16146767e-01], dtype=float32), array([ 0.05099397,  0.38867757, -0.04622924, -0.33295479,  0.09337867,\n",
      "       -0.34661794,  0.34502989, -0.43726781, -0.71414572,  0.30528852,\n",
      "       -0.0880169 , -0.45267209, -0.44711575,  0.45816502,  0.33161965,\n",
      "       -0.41097006, -0.2176231 , -0.38969994,  0.45583177, -0.1871116 ,\n",
      "        0.1823006 , -0.21717596, -0.37485632,  0.15487042, -0.16973701,\n",
      "        0.54287076,  0.31017998, -0.0606074 ,  0.00854262,  0.16231343,\n",
      "       -0.123625  ,  0.24940741, -0.0396136 ,  0.3184714 , -0.03454496,\n",
      "       -0.02607216,  0.00517559,  0.06530364, -0.28944203,  0.28525159,\n",
      "       -0.33627653,  0.29465261, -0.23257472, -0.21579085,  0.163195  ,\n",
      "        0.18667057, -0.53787106,  0.02676294,  0.15824078, -0.52585858,\n",
      "       -0.31236404,  0.61482644,  0.31539646,  0.31965014,  0.14906557,\n",
      "        0.10565156,  0.29353482, -0.61793941,  0.02057456,  0.12562123,\n",
      "        0.46480992,  0.16626583, -0.35096815, -0.21226907,  0.3544547 ,\n",
      "        0.51332164, -0.3500762 , -0.0814795 ,  0.095669  ,  0.16529965,\n",
      "       -0.22048043,  0.75650251, -0.36891624, -0.29684633,  0.21677668,\n",
      "        0.56517541, -0.33737099, -0.12048826,  0.53394306, -0.14731601,\n",
      "       -1.03411877,  0.10401232, -0.15493566, -0.2512877 ,  0.3986696 ,\n",
      "       -0.50306022,  0.3006514 , -0.05538487, -0.13678919,  0.41768309,\n",
      "        0.0667074 , -0.44527021, -0.125965  , -0.25092804,  0.30290583,\n",
      "       -0.04980848, -0.19403408, -0.00538185,  0.02100394,  0.22207144], dtype=float32)]\n"
     ]
    }
   ],
   "source": [
    "train_text_vectors, test_text_vectors, model = transform_text_into_vectors(train_text, test_text, 100)\n",
    "print(len(train_text_vectors), len(test_text_vectors))\n",
    "print(type(model))\n",
    "print(test_text_vectors[:2])"
   ]
  },
  {
   "cell_type": "code",
   "execution_count": 122,
   "metadata": {
    "collapsed": false
   },
   "outputs": [],
   "source": [
    "def split_into_XY(data_chng_train, train_text_vectors, step, window, forecast):\n",
    "    '''\n",
    "        Splits textual and time series data into train or test dataset for hybrid model;\n",
    "        objective y_i is percentage change of price movement for next day\n",
    "    '''\n",
    "    X_train, X_train_text, Y_train, Y_train2 = [], [], [], []\n",
    "    for i in range(0, len(data_chng_train), step): \n",
    "        try:\n",
    "            x_i = data_chng_train[i:i+window]\n",
    "            y_i = np.std(data_chng_train[i:i+window+forecast][3])\n",
    "\n",
    "            text_average = train_text_vectors[i:i+window]\n",
    "            last_close = x_i[-1]\n",
    "            y_i2 = None\n",
    "            if data_chng_train[i+window+forecast][3] > 0.:\n",
    "                y_i2 = 1.\n",
    "            else:\n",
    "                y_i2 = 0.\n",
    "\n",
    "        except Exception as e:\n",
    "            print('KEK', e)\n",
    "            break\n",
    "\n",
    "        X_train.append(x_i)\n",
    "        X_train_text.append(text_average)\n",
    "        Y_train.append(y_i)\n",
    "        Y_train2.append(y_i2)\n",
    "\n",
    "    X_train, X_train_text, Y_train, Y_train2 = np.array(X_train), np.array(X_train_text), np.array(Y_train), np.array(Y_train2)\n",
    "    return X_train, X_train_text, Y_train, Y_train2"
   ]
  },
  {
   "cell_type": "code",
   "execution_count": 123,
   "metadata": {
    "collapsed": false
   },
   "outputs": [
    {
     "name": "stdout",
     "output_type": "stream",
     "text": [
      "KEK index 1611 is out of bounds for axis 0 with size 1611\n",
      "KEK index 378 is out of bounds for axis 0 with size 378\n"
     ]
    }
   ],
   "source": [
    "X_train, X_train_text, Y_train, Y_train2 = split_into_XY(data_chng_train, train_text_vectors, 1, 30, 1)\n",
    "X_test, X_test_text, Y_test, Y_test2 = split_into_XY(data_chng_test, test_text_vectors, 1, 30, 1)\n",
    "\n",
    "X_train = np.reshape(X_train, (X_train.shape[0], X_train.shape[1], 5))\n",
    "X_test = np.reshape(X_test, (X_test.shape[0], X_test.shape[1], 5))"
   ]
  },
  {
   "cell_type": "code",
   "execution_count": 124,
   "metadata": {
    "collapsed": true
   },
   "outputs": [],
   "source": [
    "main_input = Input(shape=(30, 5), name='ts_input')\n",
    "text_input = Input(shape=(30, 100), name='text_input')\n",
    "\n",
    "lstm1 = LSTM(10, return_sequences=True, recurrent_dropout=0.25, dropout=0.25, bias_initializer='ones')(main_input)\n",
    "lstm1 = LSTM(10, return_sequences=True, recurrent_dropout=0.25, dropout=0.25, bias_initializer='ones')(lstm1)\n",
    "lstm1 = Flatten()(lstm1)\n",
    "\n",
    "lstm2 = LSTM(10, return_sequences=True, recurrent_dropout=0.25, dropout=0.25, bias_initializer='ones')(text_input)\n",
    "lstm2 = LSTM(10, return_sequences=True, recurrent_dropout=0.25, dropout=0.25, bias_initializer='ones')(lstm2)\n",
    "lstm2 = Flatten()(lstm2)\n",
    "\n",
    "lstms = concatenate([lstm1, lstm2])"
   ]
  },
  {
   "cell_type": "code",
   "execution_count": 125,
   "metadata": {
    "collapsed": false
   },
   "outputs": [],
   "source": [
    "x1 = Dense(64)(lstms)\n",
    "x1 = LeakyReLU()(x1)\n",
    "x1 = Dense(1, activation = 'linear', name='regression')(x1)\n",
    "\n",
    "x2 = Dense(64)(lstms)\n",
    "x2 = LeakyReLU()(x2)\n",
    "x2 = Dropout(0.9)(x2)\n",
    "x2 = Dense(1, activation = 'sigmoid', name = 'class')(x2)"
   ]
  },
  {
   "cell_type": "code",
   "execution_count": 126,
   "metadata": {
    "collapsed": true
   },
   "outputs": [],
   "source": [
    "final_model = Model(inputs=[main_input, text_input], \n",
    "              outputs=[x1, x2])\n",
    "opt = Nadam(lr=0.002, clipnorm = 0.5)\n",
    "reduce_lr = ReduceLROnPlateau(monitor='val_loss', factor=0.9, patience=50, min_lr=0.000001, verbose=1)\n",
    "checkpointer = ModelCheckpoint(monitor='val_loss', filepath=\"model.hdf5\", verbose=1, save_best_only=True)\n",
    "final_model.compile(optimizer=opt, loss={'regression': 'mse', 'class': 'binary_crossentropy'}, loss_weights=[1., 0.2])"
   ]
  },
  {
   "cell_type": "code",
   "execution_count": 127,
   "metadata": {
    "collapsed": false
   },
   "outputs": [
    {
     "name": "stdout",
     "output_type": "stream",
     "text": [
      "<keras.engine.topology.InputLayer object at 0x129d2a278> (None, 30, 5)\n",
      "<keras.engine.topology.InputLayer object at 0x129d2a048> (None, 30, 100)\n",
      "<keras.layers.recurrent.LSTM object at 0x129d2a470> (None, 30, 10)\n",
      "<keras.layers.recurrent.LSTM object at 0x127c810f0> (None, 30, 10)\n",
      "<keras.layers.recurrent.LSTM object at 0x129d2a160> (None, 30, 10)\n",
      "<keras.layers.recurrent.LSTM object at 0x13897f080> (None, 30, 10)\n",
      "<keras.layers.core.Flatten object at 0x1242047b8> (None, 300)\n",
      "<keras.layers.core.Flatten object at 0x13889c2b0> (None, 300)\n",
      "<keras.layers.merge.Concatenate object at 0x11d16e240> (None, 600)\n",
      "<keras.layers.core.Dense object at 0x12d90f358> (None, 64)\n",
      "<keras.layers.core.Dense object at 0x12d90f518> (None, 64)\n",
      "<keras.layers.advanced_activations.LeakyReLU object at 0x12292a780> (None, 64)\n",
      "<keras.layers.advanced_activations.LeakyReLU object at 0x12d90f898> (None, 64)\n",
      "<keras.layers.core.Dropout object at 0x122946e80> (None, 64)\n",
      "<keras.layers.core.Dense object at 0x125574208> (None, 1)\n",
      "<keras.layers.core.Dense object at 0x1229467f0> (None, 1)\n"
     ]
    }
   ],
   "source": [
    "for layer in final_model.layers:\n",
    "    print(layer, layer.output_shape)"
   ]
  },
  {
   "cell_type": "code",
   "execution_count": 130,
   "metadata": {
    "collapsed": false,
    "scrolled": true
   },
   "outputs": [
    {
     "name": "stdout",
     "output_type": "stream",
     "text": [
      "Train on 1580 samples, validate on 347 samples\n",
      "Epoch 1/100\n",
      "1536/1580 [============================>.] - ETA: 0s - loss: 1.0536 - regression_loss: 0.8704 - class_loss: 0.9163Epoch 00000: val_loss did not improve\n",
      "1580/1580 [==============================] - 2s - loss: 1.0317 - regression_loss: 0.8490 - class_loss: 0.9138 - val_loss: 1.1224 - val_regression_loss: 0.9278 - val_class_loss: 0.9729\n",
      "Epoch 2/100\n",
      "1536/1580 [============================>.] - ETA: 0s - loss: 0.6144 - regression_loss: 0.4439 - class_loss: 0.8525Epoch 00001: val_loss did not improve\n",
      "1580/1580 [==============================] - 2s - loss: 0.6169 - regression_loss: 0.4469 - class_loss: 0.8497 - val_loss: 0.2572 - val_regression_loss: 0.1173 - val_class_loss: 0.6991\n",
      "Epoch 3/100\n",
      "1536/1580 [============================>.] - ETA: 0s - loss: 0.4900 - regression_loss: 0.3429 - class_loss: 0.7355Epoch 00002: val_loss did not improve\n",
      "1580/1580 [==============================] - 2s - loss: 0.4827 - regression_loss: 0.3354 - class_loss: 0.7363 - val_loss: 0.6066 - val_regression_loss: 0.4659 - val_class_loss: 0.7039\n",
      "Epoch 4/100\n",
      "1536/1580 [============================>.] - ETA: 0s - loss: 0.4230 - regression_loss: 0.2754 - class_loss: 0.7376Epoch 00003: val_loss improved from 0.21150 to 0.18853, saving model to model.hdf5\n",
      "1580/1580 [==============================] - 2s - loss: 0.4258 - regression_loss: 0.2783 - class_loss: 0.7374 - val_loss: 0.1885 - val_regression_loss: 0.0499 - val_class_loss: 0.6934\n",
      "Epoch 5/100\n",
      "1536/1580 [============================>.] - ETA: 0s - loss: 0.3560 - regression_loss: 0.2111 - class_loss: 0.7245Epoch 00004: val_loss did not improve\n",
      "1580/1580 [==============================] - 2s - loss: 0.3510 - regression_loss: 0.2060 - class_loss: 0.7246 - val_loss: 0.4550 - val_regression_loss: 0.3155 - val_class_loss: 0.6971\n",
      "Epoch 6/100\n",
      "1536/1580 [============================>.] - ETA: 0s - loss: 0.3131 - regression_loss: 0.1683 - class_loss: 0.7238Epoch 00005: val_loss improved from 0.18853 to 0.16462, saving model to model.hdf5\n",
      "1580/1580 [==============================] - 2s - loss: 0.3141 - regression_loss: 0.1691 - class_loss: 0.7249 - val_loss: 0.1646 - val_regression_loss: 0.0246 - val_class_loss: 0.7001\n",
      "Epoch 7/100\n",
      "1536/1580 [============================>.] - ETA: 0s - loss: 0.2672 - regression_loss: 0.1236 - class_loss: 0.7180Epoch 00006: val_loss did not improve\n",
      "1580/1580 [==============================] - 2s - loss: 0.2691 - regression_loss: 0.1250 - class_loss: 0.7206 - val_loss: 0.2858 - val_regression_loss: 0.1451 - val_class_loss: 0.7036\n",
      "Epoch 8/100\n",
      "1536/1580 [============================>.] - ETA: 0s - loss: 0.2384 - regression_loss: 0.0941 - class_loss: 0.7216Epoch 00007: val_loss improved from 0.16462 to 0.15440, saving model to model.hdf5\n",
      "1580/1580 [==============================] - 2s - loss: 0.2388 - regression_loss: 0.0945 - class_loss: 0.7215 - val_loss: 0.1544 - val_regression_loss: 0.0156 - val_class_loss: 0.6941\n",
      "Epoch 9/100\n",
      "1536/1580 [============================>.] - ETA: 0s - loss: 0.2145 - regression_loss: 0.0710 - class_loss: 0.7175Epoch 00008: val_loss did not improve\n",
      "1580/1580 [==============================] - 2s - loss: 0.2140 - regression_loss: 0.0706 - class_loss: 0.7170 - val_loss: 0.1969 - val_regression_loss: 0.0562 - val_class_loss: 0.7035\n",
      "Epoch 10/100\n",
      "1536/1580 [============================>.] - ETA: 0s - loss: 0.2046 - regression_loss: 0.0584 - class_loss: 0.7312Epoch 00009: val_loss did not improve\n",
      "1580/1580 [==============================] - 2s - loss: 0.2034 - regression_loss: 0.0576 - class_loss: 0.7285 - val_loss: 0.1570 - val_regression_loss: 0.0149 - val_class_loss: 0.7106\n",
      "Epoch 11/100\n",
      "1536/1580 [============================>.] - ETA: 0s - loss: 0.1934 - regression_loss: 0.0498 - class_loss: 0.7184Epoch 00010: val_loss did not improve\n",
      "1580/1580 [==============================] - 2s - loss: 0.1932 - regression_loss: 0.0496 - class_loss: 0.7182 - val_loss: 0.1585 - val_regression_loss: 0.0198 - val_class_loss: 0.6936\n",
      "Epoch 12/100\n",
      "1536/1580 [============================>.] - ETA: 0s - loss: 0.1865 - regression_loss: 0.0438 - class_loss: 0.7139Epoch 00011: val_loss improved from 0.15440 to 0.15136, saving model to model.hdf5\n",
      "1580/1580 [==============================] - 2s - loss: 0.1855 - regression_loss: 0.0429 - class_loss: 0.7130 - val_loss: 0.1514 - val_regression_loss: 0.0123 - val_class_loss: 0.6954\n",
      "Epoch 13/100\n",
      "1536/1580 [============================>.] - ETA: 0s - loss: 0.1768 - regression_loss: 0.0355 - class_loss: 0.7065Epoch 00012: val_loss did not improve\n",
      "1580/1580 [==============================] - 2s - loss: 0.1800 - regression_loss: 0.0387 - class_loss: 0.7067 - val_loss: 0.1582 - val_regression_loss: 0.0195 - val_class_loss: 0.6936\n",
      "Epoch 14/100\n",
      "1536/1580 [============================>.] - ETA: 0s - loss: 0.1851 - regression_loss: 0.0432 - class_loss: 0.7096Epoch 00013: val_loss improved from 0.15136 to 0.14970, saving model to model.hdf5\n",
      "1580/1580 [==============================] - 2s - loss: 0.1840 - regression_loss: 0.0422 - class_loss: 0.7091 - val_loss: 0.1497 - val_regression_loss: 0.0110 - val_class_loss: 0.6934\n",
      "Epoch 15/100\n",
      "1536/1580 [============================>.] - ETA: 0s - loss: 0.1800 - regression_loss: 0.0389 - class_loss: 0.7052Epoch 00014: val_loss did not improve\n",
      "1580/1580 [==============================] - 2s - loss: 0.1793 - regression_loss: 0.0383 - class_loss: 0.7050 - val_loss: 0.1521 - val_regression_loss: 0.0124 - val_class_loss: 0.6985\n",
      "Epoch 16/100\n",
      "1536/1580 [============================>.] - ETA: 0s - loss: 0.1787 - regression_loss: 0.0382 - class_loss: 0.7025Epoch 00015: val_loss did not improve\n",
      "1580/1580 [==============================] - 2s - loss: 0.1780 - regression_loss: 0.0374 - class_loss: 0.7031 - val_loss: 0.1511 - val_regression_loss: 0.0116 - val_class_loss: 0.6976\n",
      "Epoch 17/100\n",
      "1536/1580 [============================>.] - ETA: 0s - loss: 0.1778 - regression_loss: 0.0380 - class_loss: 0.6991Epoch 00016: val_loss did not improve\n",
      "1580/1580 [==============================] - 2s - loss: 0.1768 - regression_loss: 0.0371 - class_loss: 0.6982 - val_loss: 0.1504 - val_regression_loss: 0.0108 - val_class_loss: 0.6981\n",
      "Epoch 18/100\n",
      "1536/1580 [============================>.] - ETA: 0s - loss: 0.1783 - regression_loss: 0.0384 - class_loss: 0.6993Epoch 00017: val_loss did not improve\n",
      "1580/1580 [==============================] - 2s - loss: 0.1775 - regression_loss: 0.0378 - class_loss: 0.6987 - val_loss: 0.1506 - val_regression_loss: 0.0114 - val_class_loss: 0.6961\n",
      "Epoch 19/100\n",
      "1536/1580 [============================>.] - ETA: 0s - loss: 0.1797 - regression_loss: 0.0395 - class_loss: 0.7007Epoch 00018: val_loss did not improve\n",
      "1580/1580 [==============================] - 2s - loss: 0.1787 - regression_loss: 0.0387 - class_loss: 0.6996 - val_loss: 0.1504 - val_regression_loss: 0.0112 - val_class_loss: 0.6959\n",
      "Epoch 20/100\n",
      "1536/1580 [============================>.] - ETA: 0s - loss: 0.1785 - regression_loss: 0.0382 - class_loss: 0.7014Epoch 00019: val_loss did not improve\n",
      "1580/1580 [==============================] - 2s - loss: 0.1775 - regression_loss: 0.0373 - class_loss: 0.7008 - val_loss: 0.1502 - val_regression_loss: 0.0107 - val_class_loss: 0.6976\n",
      "Epoch 21/100\n",
      "1536/1580 [============================>.] - ETA: 0s - loss: 0.1782 - regression_loss: 0.0381 - class_loss: 0.7006Epoch 00020: val_loss improved from 0.14970 to 0.14954, saving model to model.hdf5\n",
      "1580/1580 [==============================] - 2s - loss: 0.1772 - regression_loss: 0.0372 - class_loss: 0.7003 - val_loss: 0.1495 - val_regression_loss: 0.0107 - val_class_loss: 0.6940\n",
      "Epoch 22/100\n",
      "1536/1580 [============================>.] - ETA: 0s - loss: 0.1771 - regression_loss: 0.0380 - class_loss: 0.6958Epoch 00021: val_loss did not improve\n",
      "1580/1580 [==============================] - 2s - loss: 0.1763 - regression_loss: 0.0372 - class_loss: 0.6954 - val_loss: 0.1501 - val_regression_loss: 0.0109 - val_class_loss: 0.6960\n",
      "Epoch 23/100\n",
      "1536/1580 [============================>.] - ETA: 0s - loss: 0.1778 - regression_loss: 0.0380 - class_loss: 0.6993Epoch 00022: val_loss did not improve\n",
      "1580/1580 [==============================] - 2s - loss: 0.1769 - regression_loss: 0.0371 - class_loss: 0.6990 - val_loss: 0.1501 - val_regression_loss: 0.0107 - val_class_loss: 0.6972\n",
      "Epoch 24/100\n",
      "1536/1580 [============================>.] - ETA: 0s - loss: 0.1771 - regression_loss: 0.0377 - class_loss: 0.6967Epoch 00023: val_loss did not improve\n",
      "1580/1580 [==============================] - 2s - loss: 0.1765 - regression_loss: 0.0370 - class_loss: 0.6972 - val_loss: 0.1498 - val_regression_loss: 0.0110 - val_class_loss: 0.6939\n",
      "Epoch 25/100\n",
      "1536/1580 [============================>.] - ETA: 0s - loss: 0.1770 - regression_loss: 0.0379 - class_loss: 0.6956Epoch 00024: val_loss did not improve\n",
      "1580/1580 [==============================] - 2s - loss: 0.1760 - regression_loss: 0.0370 - class_loss: 0.6949 - val_loss: 0.1497 - val_regression_loss: 0.0107 - val_class_loss: 0.6951\n",
      "Epoch 26/100\n",
      "1536/1580 [============================>.] - ETA: 0s - loss: 0.1768 - regression_loss: 0.0366 - class_loss: 0.7010Epoch 00025: val_loss did not improve\n",
      "1580/1580 [==============================] - 2s - loss: 0.1770 - regression_loss: 0.0367 - class_loss: 0.7014 - val_loss: 0.1525 - val_regression_loss: 0.0135 - val_class_loss: 0.6952\n",
      "Epoch 27/100\n",
      "1536/1580 [============================>.] - ETA: 0s - loss: 0.1762 - regression_loss: 0.0376 - class_loss: 0.6932Epoch 00026: val_loss improved from 0.14954 to 0.14951, saving model to model.hdf5\n",
      "1580/1580 [==============================] - 2s - loss: 0.1755 - regression_loss: 0.0367 - class_loss: 0.6938 - val_loss: 0.1495 - val_regression_loss: 0.0105 - val_class_loss: 0.6950\n",
      "Epoch 28/100\n",
      "1536/1580 [============================>.] - ETA: 0s - loss: 0.1763 - regression_loss: 0.0376 - class_loss: 0.6935Epoch 00027: val_loss improved from 0.14951 to 0.14931, saving model to model.hdf5\n",
      "1580/1580 [==============================] - 2s - loss: 0.1755 - regression_loss: 0.0367 - class_loss: 0.6939 - val_loss: 0.1493 - val_regression_loss: 0.0104 - val_class_loss: 0.6947\n",
      "Epoch 29/100\n",
      "1536/1580 [============================>.] - ETA: 0s - loss: 0.1658 - regression_loss: 0.0264 - class_loss: 0.6970Epoch 00028: val_loss did not improve\n",
      "1580/1580 [==============================] - 2s - loss: 0.1756 - regression_loss: 0.0361 - class_loss: 0.6977 - val_loss: 0.1565 - val_regression_loss: 0.0176 - val_class_loss: 0.6949\n",
      "Epoch 30/100\n",
      "1536/1580 [============================>.] - ETA: 0s - loss: 0.1769 - regression_loss: 0.0388 - class_loss: 0.6902Epoch 00029: val_loss did not improve\n",
      "1580/1580 [==============================] - 2s - loss: 0.1759 - regression_loss: 0.0379 - class_loss: 0.6899 - val_loss: 0.1497 - val_regression_loss: 0.0102 - val_class_loss: 0.6972\n",
      "Epoch 31/100\n",
      "1536/1580 [============================>.] - ETA: 0s - loss: 0.1747 - regression_loss: 0.0360 - class_loss: 0.6936Epoch 00030: val_loss did not improve\n",
      "1580/1580 [==============================] - 2s - loss: 0.1738 - regression_loss: 0.0351 - class_loss: 0.6932 - val_loss: 0.1499 - val_regression_loss: 0.0105 - val_class_loss: 0.6973\n",
      "Epoch 32/100\n",
      "1536/1580 [============================>.] - ETA: 0s - loss: 0.1764 - regression_loss: 0.0367 - class_loss: 0.6988Epoch 00031: val_loss did not improve\n",
      "1580/1580 [==============================] - 2s - loss: 0.1758 - regression_loss: 0.0360 - class_loss: 0.6990 - val_loss: 0.1495 - val_regression_loss: 0.0104 - val_class_loss: 0.6956\n",
      "Epoch 33/100\n",
      "1536/1580 [============================>.] - ETA: 0s - loss: 0.1726 - regression_loss: 0.0341 - class_loss: 0.6922Epoch 00032: val_loss improved from 0.14931 to 0.14867, saving model to model.hdf5\n",
      "1580/1580 [==============================] - 2s - loss: 0.1718 - regression_loss: 0.0334 - class_loss: 0.6919 - val_loss: 0.1487 - val_regression_loss: 0.0097 - val_class_loss: 0.6949\n",
      "Epoch 34/100\n",
      "1536/1580 [============================>.] - ETA: 0s - loss: 0.1745 - regression_loss: 0.0355 - class_loss: 0.6951Epoch 00033: val_loss improved from 0.14867 to 0.14833, saving model to model.hdf5\n",
      "1580/1580 [==============================] - 2s - loss: 0.1738 - regression_loss: 0.0348 - class_loss: 0.6952 - val_loss: 0.1483 - val_regression_loss: 0.0093 - val_class_loss: 0.6951\n",
      "Epoch 35/100\n",
      "1536/1580 [============================>.] - ETA: 0s - loss: 0.1708 - regression_loss: 0.0324 - class_loss: 0.6921Epoch 00034: val_loss did not improve\n",
      "1580/1580 [==============================] - 2s - loss: 0.1700 - regression_loss: 0.0316 - class_loss: 0.6917 - val_loss: 0.1486 - val_regression_loss: 0.0094 - val_class_loss: 0.6962\n",
      "Epoch 36/100\n",
      "1536/1580 [============================>.] - ETA: 0s - loss: 0.1618 - regression_loss: 0.0235 - class_loss: 0.6913Epoch 00035: val_loss did not improve\n",
      "1580/1580 [==============================] - 2s - loss: 0.1713 - regression_loss: 0.0330 - class_loss: 0.6914 - val_loss: 0.1545 - val_regression_loss: 0.0153 - val_class_loss: 0.6958\n",
      "Epoch 37/100\n",
      "1536/1580 [============================>.] - ETA: 0s - loss: 0.1727 - regression_loss: 0.0341 - class_loss: 0.6931Epoch 00036: val_loss improved from 0.14833 to 0.14758, saving model to model.hdf5\n",
      "1580/1580 [==============================] - 2s - loss: 0.1722 - regression_loss: 0.0336 - class_loss: 0.6929 - val_loss: 0.1476 - val_regression_loss: 0.0086 - val_class_loss: 0.6949\n",
      "Epoch 38/100\n",
      "1536/1580 [============================>.] - ETA: 0s - loss: 0.1702 - regression_loss: 0.0327 - class_loss: 0.6875Epoch 00037: val_loss improved from 0.14758 to 0.14656, saving model to model.hdf5\n",
      "1580/1580 [==============================] - 2s - loss: 0.1697 - regression_loss: 0.0320 - class_loss: 0.6885 - val_loss: 0.1466 - val_regression_loss: 0.0077 - val_class_loss: 0.6943\n",
      "Epoch 39/100\n",
      "1536/1580 [============================>.] - ETA: 0s - loss: 0.1677 - regression_loss: 0.0282 - class_loss: 0.6974Epoch 00038: val_loss improved from 0.14656 to 0.14597, saving model to model.hdf5\n",
      "1580/1580 [==============================] - 2s - loss: 0.1678 - regression_loss: 0.0282 - class_loss: 0.6977 - val_loss: 0.1460 - val_regression_loss: 0.0072 - val_class_loss: 0.6941\n",
      "Epoch 40/100\n",
      "1536/1580 [============================>.] - ETA: 0s - loss: 0.1666 - regression_loss: 0.0281 - class_loss: 0.6929Epoch 00039: val_loss did not improve\n",
      "1580/1580 [==============================] - 2s - loss: 0.1661 - regression_loss: 0.0275 - class_loss: 0.6930 - val_loss: 0.1467 - val_regression_loss: 0.0078 - val_class_loss: 0.6945\n",
      "Epoch 41/100\n",
      "1536/1580 [============================>.] - ETA: 0s - loss: 0.1726 - regression_loss: 0.0342 - class_loss: 0.6923Epoch 00040: val_loss improved from 0.14597 to 0.14548, saving model to model.hdf5\n",
      "1580/1580 [==============================] - 2s - loss: 0.1718 - regression_loss: 0.0334 - class_loss: 0.6918 - val_loss: 0.1455 - val_regression_loss: 0.0065 - val_class_loss: 0.6950\n",
      "Epoch 42/100\n",
      "1536/1580 [============================>.] - ETA: 0s - loss: 0.1679 - regression_loss: 0.0293 - class_loss: 0.6929Epoch 00041: val_loss improved from 0.14548 to 0.14469, saving model to model.hdf5\n",
      "1580/1580 [==============================] - 2s - loss: 0.1674 - regression_loss: 0.0287 - class_loss: 0.6935 - val_loss: 0.1447 - val_regression_loss: 0.0058 - val_class_loss: 0.6946\n",
      "Epoch 43/100\n",
      "1536/1580 [============================>.] - ETA: 0s - loss: 0.1660 - regression_loss: 0.0277 - class_loss: 0.6914Epoch 00042: val_loss did not improve\n",
      "1580/1580 [==============================] - 2s - loss: 0.1656 - regression_loss: 0.0273 - class_loss: 0.6918 - val_loss: 0.1450 - val_regression_loss: 0.0061 - val_class_loss: 0.6944\n",
      "Epoch 44/100\n",
      "1536/1580 [============================>.] - ETA: 0s - loss: 0.1657 - regression_loss: 0.0269 - class_loss: 0.6940Epoch 00043: val_loss improved from 0.14469 to 0.14415, saving model to model.hdf5\n",
      "1580/1580 [==============================] - 2s - loss: 0.1650 - regression_loss: 0.0262 - class_loss: 0.6940 - val_loss: 0.1442 - val_regression_loss: 0.0052 - val_class_loss: 0.6947\n",
      "Epoch 45/100\n",
      "1536/1580 [============================>.] - ETA: 0s - loss: 0.1594 - regression_loss: 0.0209 - class_loss: 0.6924Epoch 00044: val_loss did not improve\n",
      "1580/1580 [==============================] - 2s - loss: 0.1591 - regression_loss: 0.0207 - class_loss: 0.6921 - val_loss: 0.1442 - val_regression_loss: 0.0053 - val_class_loss: 0.6944\n",
      "Epoch 46/100\n",
      "1536/1580 [============================>.] - ETA: 0s - loss: 0.1636 - regression_loss: 0.0251 - class_loss: 0.6925Epoch 00045: val_loss did not improve\n",
      "1580/1580 [==============================] - 2s - loss: 0.1629 - regression_loss: 0.0245 - class_loss: 0.6924 - val_loss: 0.1442 - val_regression_loss: 0.0054 - val_class_loss: 0.6942\n",
      "Epoch 47/100\n",
      "1536/1580 [============================>.] - ETA: 0s - loss: 0.1571 - regression_loss: 0.0190 - class_loss: 0.6908Epoch 00046: val_loss improved from 0.14415 to 0.14409, saving model to model.hdf5\n",
      "1580/1580 [==============================] - 2s - loss: 0.1572 - regression_loss: 0.0191 - class_loss: 0.6906 - val_loss: 0.1441 - val_regression_loss: 0.0051 - val_class_loss: 0.6951\n",
      "Epoch 48/100\n",
      "1536/1580 [============================>.] - ETA: 0s - loss: 0.1602 - regression_loss: 0.0222 - class_loss: 0.6900Epoch 00047: val_loss did not improve\n",
      "1580/1580 [==============================] - 2s - loss: 0.1598 - regression_loss: 0.0217 - class_loss: 0.6902 - val_loss: 0.1452 - val_regression_loss: 0.0060 - val_class_loss: 0.6960\n",
      "Epoch 49/100\n",
      "1536/1580 [============================>.] - ETA: 0s - loss: 0.1538 - regression_loss: 0.0153 - class_loss: 0.6926Epoch 00048: val_loss improved from 0.14409 to 0.14373, saving model to model.hdf5\n",
      "1580/1580 [==============================] - 2s - loss: 0.1535 - regression_loss: 0.0150 - class_loss: 0.6925 - val_loss: 0.1437 - val_regression_loss: 0.0047 - val_class_loss: 0.6952\n",
      "Epoch 50/100\n",
      "1536/1580 [============================>.] - ETA: 0s - loss: 0.1549 - regression_loss: 0.0168 - class_loss: 0.6906Epoch 00049: val_loss did not improve\n",
      "1580/1580 [==============================] - 2s - loss: 0.1547 - regression_loss: 0.0165 - class_loss: 0.6909 - val_loss: 0.1442 - val_regression_loss: 0.0052 - val_class_loss: 0.6949\n",
      "Epoch 51/100\n",
      "1536/1580 [============================>.] - ETA: 0s - loss: 0.1526 - regression_loss: 0.0150 - class_loss: 0.6878Epoch 00050: val_loss improved from 0.14373 to 0.14326, saving model to model.hdf5\n",
      "1580/1580 [==============================] - 2s - loss: 0.1528 - regression_loss: 0.0152 - class_loss: 0.6882 - val_loss: 0.1433 - val_regression_loss: 0.0043 - val_class_loss: 0.6947\n",
      "Epoch 52/100\n",
      "1536/1580 [============================>.] - ETA: 0s - loss: 0.1596 - regression_loss: 0.0211 - class_loss: 0.6926Epoch 00051: val_loss did not improve\n",
      "1580/1580 [==============================] - 2s - loss: 0.1592 - regression_loss: 0.0206 - class_loss: 0.6929 - val_loss: 0.1437 - val_regression_loss: 0.0047 - val_class_loss: 0.6948\n",
      "Epoch 53/100\n",
      "1536/1580 [============================>.] - ETA: 0s - loss: 0.1593 - regression_loss: 0.0210 - class_loss: 0.6918Epoch 00052: val_loss improved from 0.14326 to 0.14299, saving model to model.hdf5\n",
      "1580/1580 [==============================] - 2s - loss: 0.1589 - regression_loss: 0.0205 - class_loss: 0.6918 - val_loss: 0.1430 - val_regression_loss: 0.0041 - val_class_loss: 0.6942\n",
      "Epoch 54/100\n",
      "1536/1580 [============================>.] - ETA: 0s - loss: 0.1633 - regression_loss: 0.0254 - class_loss: 0.6897Epoch 00053: val_loss did not improve\n",
      "1580/1580 [==============================] - 2s - loss: 0.1626 - regression_loss: 0.0248 - class_loss: 0.6891 - val_loss: 0.1432 - val_regression_loss: 0.0041 - val_class_loss: 0.6954\n",
      "Epoch 55/100\n",
      "1536/1580 [============================>.] - ETA: 0s - loss: 0.1577 - regression_loss: 0.0191 - class_loss: 0.6933Epoch 00054: val_loss improved from 0.14299 to 0.14268, saving model to model.hdf5\n",
      "1580/1580 [==============================] - 2s - loss: 0.1574 - regression_loss: 0.0189 - class_loss: 0.6926 - val_loss: 0.1427 - val_regression_loss: 0.0036 - val_class_loss: 0.6956\n",
      "Epoch 56/100\n",
      "1536/1580 [============================>.] - ETA: 0s - loss: 0.1504 - regression_loss: 0.0120 - class_loss: 0.6916Epoch 00055: val_loss did not improve\n",
      "1580/1580 [==============================] - 2s - loss: 0.1502 - regression_loss: 0.0118 - class_loss: 0.6918 - val_loss: 0.1430 - val_regression_loss: 0.0040 - val_class_loss: 0.6952\n",
      "Epoch 57/100\n",
      "1536/1580 [============================>.] - ETA: 0s - loss: 0.1524 - regression_loss: 0.0141 - class_loss: 0.6917Epoch 00056: val_loss did not improve\n",
      "1580/1580 [==============================] - 2s - loss: 0.1525 - regression_loss: 0.0141 - class_loss: 0.6918 - val_loss: 0.1438 - val_regression_loss: 0.0047 - val_class_loss: 0.6953\n",
      "Epoch 58/100\n",
      "1536/1580 [============================>.] - ETA: 0s - loss: 0.1553 - regression_loss: 0.0176 - class_loss: 0.6883Epoch 00057: val_loss improved from 0.14268 to 0.14244, saving model to model.hdf5\n",
      "1580/1580 [==============================] - 2s - loss: 0.1550 - regression_loss: 0.0172 - class_loss: 0.6887 - val_loss: 0.1424 - val_regression_loss: 0.0034 - val_class_loss: 0.6951\n",
      "Epoch 59/100\n",
      "1536/1580 [============================>.] - ETA: 0s - loss: 0.1622 - regression_loss: 0.0243 - class_loss: 0.6891Epoch 00058: val_loss improved from 0.14244 to 0.14225, saving model to model.hdf5\n",
      "1580/1580 [==============================] - 2s - loss: 0.1616 - regression_loss: 0.0237 - class_loss: 0.6894 - val_loss: 0.1423 - val_regression_loss: 0.0032 - val_class_loss: 0.6950\n",
      "Epoch 60/100\n",
      "1536/1580 [============================>.] - ETA: 0s - loss: 0.1540 - regression_loss: 0.0156 - class_loss: 0.6918Epoch 00059: val_loss did not improve\n",
      "1580/1580 [==============================] - 2s - loss: 0.1537 - regression_loss: 0.0153 - class_loss: 0.6919 - val_loss: 0.1423 - val_regression_loss: 0.0033 - val_class_loss: 0.6953\n",
      "Epoch 61/100\n",
      "1536/1580 [============================>.] - ETA: 0s - loss: 0.1567 - regression_loss: 0.0186 - class_loss: 0.6902Epoch 00060: val_loss improved from 0.14225 to 0.14216, saving model to model.hdf5\n",
      "1580/1580 [==============================] - 2s - loss: 0.1563 - regression_loss: 0.0182 - class_loss: 0.6903 - val_loss: 0.1422 - val_regression_loss: 0.0031 - val_class_loss: 0.6953\n",
      "Epoch 62/100\n",
      "1536/1580 [============================>.] - ETA: 0s - loss: 0.1467 - regression_loss: 0.0084 - class_loss: 0.6918Epoch 00061: val_loss improved from 0.14216 to 0.14210, saving model to model.hdf5\n",
      "1580/1580 [==============================] - 2s - loss: 0.1467 - regression_loss: 0.0083 - class_loss: 0.6916 - val_loss: 0.1421 - val_regression_loss: 0.0030 - val_class_loss: 0.6955\n",
      "Epoch 63/100\n",
      "1536/1580 [============================>.] - ETA: 0s - loss: 0.1542 - regression_loss: 0.0158 - class_loss: 0.6921Epoch 00062: val_loss did not improve\n",
      "1580/1580 [==============================] - 2s - loss: 0.1542 - regression_loss: 0.0159 - class_loss: 0.6917 - val_loss: 0.1424 - val_regression_loss: 0.0034 - val_class_loss: 0.6952\n",
      "Epoch 64/100\n",
      "1536/1580 [============================>.] - ETA: 0s - loss: 0.1535 - regression_loss: 0.0155 - class_loss: 0.6899Epoch 00063: val_loss did not improve\n",
      "1580/1580 [==============================] - 2s - loss: 0.1535 - regression_loss: 0.0154 - class_loss: 0.6905 - val_loss: 0.1444 - val_regression_loss: 0.0055 - val_class_loss: 0.6946\n",
      "Epoch 65/100\n",
      "1536/1580 [============================>.] - ETA: 0s - loss: 0.1538 - regression_loss: 0.0159 - class_loss: 0.6894Epoch 00064: val_loss did not improve\n",
      "1580/1580 [==============================] - 2s - loss: 0.1535 - regression_loss: 0.0155 - class_loss: 0.6898 - val_loss: 0.1422 - val_regression_loss: 0.0033 - val_class_loss: 0.6946\n",
      "Epoch 66/100\n",
      "1536/1580 [============================>.] - ETA: 0s - loss: 0.1467 - regression_loss: 0.0081 - class_loss: 0.6929Epoch 00065: val_loss did not improve\n",
      "1580/1580 [==============================] - 2s - loss: 0.1467 - regression_loss: 0.0081 - class_loss: 0.6931 - val_loss: 0.1425 - val_regression_loss: 0.0036 - val_class_loss: 0.6944\n",
      "Epoch 67/100\n",
      "1536/1580 [============================>.] - ETA: 0s - loss: 0.1470 - regression_loss: 0.0089 - class_loss: 0.6907Epoch 00066: val_loss improved from 0.14210 to 0.14195, saving model to model.hdf5\n",
      "1580/1580 [==============================] - 2s - loss: 0.1469 - regression_loss: 0.0087 - class_loss: 0.6907 - val_loss: 0.1419 - val_regression_loss: 0.0030 - val_class_loss: 0.6945\n",
      "Epoch 68/100\n",
      "1536/1580 [============================>.] - ETA: 0s - loss: 0.1473 - regression_loss: 0.0094 - class_loss: 0.6896Epoch 00067: val_loss did not improve\n",
      "1580/1580 [==============================] - 2s - loss: 0.1471 - regression_loss: 0.0092 - class_loss: 0.6892 - val_loss: 0.1422 - val_regression_loss: 0.0032 - val_class_loss: 0.6950\n",
      "Epoch 69/100\n",
      "1536/1580 [============================>.] - ETA: 0s - loss: 0.1556 - regression_loss: 0.0172 - class_loss: 0.6918Epoch 00068: val_loss did not improve\n",
      "1580/1580 [==============================] - 2s - loss: 0.1553 - regression_loss: 0.0169 - class_loss: 0.6920 - val_loss: 0.1422 - val_regression_loss: 0.0032 - val_class_loss: 0.6949\n",
      "Epoch 70/100\n",
      "1536/1580 [============================>.] - ETA: 0s - loss: 0.1542 - regression_loss: 0.0161 - class_loss: 0.6904Epoch 00069: val_loss did not improve\n",
      "1580/1580 [==============================] - 2s - loss: 0.1566 - regression_loss: 0.0185 - class_loss: 0.6907 - val_loss: 0.1474 - val_regression_loss: 0.0085 - val_class_loss: 0.6947\n",
      "Epoch 71/100\n",
      "1536/1580 [============================>.] - ETA: 0s - loss: 0.1506 - regression_loss: 0.0125 - class_loss: 0.6905Epoch 00070: val_loss did not improve\n",
      "1580/1580 [==============================] - 2s - loss: 0.1504 - regression_loss: 0.0123 - class_loss: 0.6904 - val_loss: 0.1421 - val_regression_loss: 0.0032 - val_class_loss: 0.6949\n",
      "Epoch 72/100\n",
      "1536/1580 [============================>.] - ETA: 0s - loss: 0.1468 - regression_loss: 0.0083 - class_loss: 0.6926Epoch 00071: val_loss did not improve\n",
      "1580/1580 [==============================] - 2s - loss: 0.1468 - regression_loss: 0.0083 - class_loss: 0.6927 - val_loss: 0.1424 - val_regression_loss: 0.0034 - val_class_loss: 0.6951\n",
      "Epoch 73/100\n",
      "1536/1580 [============================>.] - ETA: 0s - loss: 0.1471 - regression_loss: 0.0091 - class_loss: 0.6896Epoch 00072: val_loss did not improve\n",
      "1580/1580 [==============================] - 2s - loss: 0.1469 - regression_loss: 0.0090 - class_loss: 0.6897 - val_loss: 0.1420 - val_regression_loss: 0.0030 - val_class_loss: 0.6950\n",
      "Epoch 74/100\n",
      "1536/1580 [============================>.] - ETA: 0s - loss: 0.1545 - regression_loss: 0.0166 - class_loss: 0.6895Epoch 00073: val_loss did not improve\n",
      "1580/1580 [==============================] - 2s - loss: 0.1543 - regression_loss: 0.0163 - class_loss: 0.6899 - val_loss: 0.1427 - val_regression_loss: 0.0037 - val_class_loss: 0.6949\n",
      "Epoch 75/100\n",
      "1536/1580 [============================>.] - ETA: 0s - loss: 0.1447 - regression_loss: 0.0066 - class_loss: 0.6905Epoch 00074: val_loss did not improve\n",
      "1580/1580 [==============================] - 2s - loss: 0.1498 - regression_loss: 0.0118 - class_loss: 0.6903 - val_loss: 0.1447 - val_regression_loss: 0.0057 - val_class_loss: 0.6950\n",
      "Epoch 76/100\n",
      "1536/1580 [============================>.] - ETA: 0s - loss: 0.1548 - regression_loss: 0.0168 - class_loss: 0.6902Epoch 00075: val_loss did not improve\n",
      "1580/1580 [==============================] - 2s - loss: 0.1546 - regression_loss: 0.0164 - class_loss: 0.6908 - val_loss: 0.1426 - val_regression_loss: 0.0035 - val_class_loss: 0.6952\n",
      "Epoch 77/100\n",
      "1536/1580 [============================>.] - ETA: 0s - loss: 0.1443 - regression_loss: 0.0063 - class_loss: 0.6902Epoch 00076: val_loss did not improve\n",
      "1580/1580 [==============================] - 2s - loss: 0.1442 - regression_loss: 0.0062 - class_loss: 0.6900 - val_loss: 0.1426 - val_regression_loss: 0.0035 - val_class_loss: 0.6953\n",
      "Epoch 78/100\n",
      "1536/1580 [============================>.] - ETA: 0s - loss: 0.1503 - regression_loss: 0.0122 - class_loss: 0.6905Epoch 00077: val_loss did not improve\n",
      "1580/1580 [==============================] - 2s - loss: 0.1505 - regression_loss: 0.0123 - class_loss: 0.6909 - val_loss: 0.1423 - val_regression_loss: 0.0032 - val_class_loss: 0.6955\n",
      "Epoch 79/100\n",
      "1536/1580 [============================>.] - ETA: 0s - loss: 0.1471 - regression_loss: 0.0092 - class_loss: 0.6896Epoch 00078: val_loss improved from 0.14195 to 0.14195, saving model to model.hdf5\n",
      "1580/1580 [==============================] - 2s - loss: 0.1470 - regression_loss: 0.0091 - class_loss: 0.6899 - val_loss: 0.1419 - val_regression_loss: 0.0030 - val_class_loss: 0.6950\n",
      "Epoch 80/100\n",
      "1536/1580 [============================>.] - ETA: 0s - loss: 0.1483 - regression_loss: 0.0103 - class_loss: 0.6899Epoch 00079: val_loss did not improve\n",
      "1580/1580 [==============================] - 2s - loss: 0.1481 - regression_loss: 0.0101 - class_loss: 0.6899 - val_loss: 0.1420 - val_regression_loss: 0.0030 - val_class_loss: 0.6948\n",
      "Epoch 81/100\n",
      "1536/1580 [============================>.] - ETA: 0s - loss: 0.1450 - regression_loss: 0.0068 - class_loss: 0.6907Epoch 00080: val_loss did not improve\n",
      "1580/1580 [==============================] - 2s - loss: 0.1449 - regression_loss: 0.0068 - class_loss: 0.6906 - val_loss: 0.1424 - val_regression_loss: 0.0034 - val_class_loss: 0.6949\n",
      "Epoch 82/100\n",
      "1536/1580 [============================>.] - ETA: 0s - loss: 0.1486 - regression_loss: 0.0104 - class_loss: 0.6906Epoch 00081: val_loss did not improve\n",
      "1580/1580 [==============================] - 2s - loss: 0.1488 - regression_loss: 0.0107 - class_loss: 0.6908 - val_loss: 0.1439 - val_regression_loss: 0.0049 - val_class_loss: 0.6949\n",
      "Epoch 83/100\n",
      "1536/1580 [============================>.] - ETA: 0s - loss: 0.1477 - regression_loss: 0.0094 - class_loss: 0.6913Epoch 00082: val_loss did not improve\n",
      "1580/1580 [==============================] - 2s - loss: 0.1476 - regression_loss: 0.0094 - class_loss: 0.6914 - val_loss: 0.1420 - val_regression_loss: 0.0030 - val_class_loss: 0.6951\n",
      "Epoch 84/100\n",
      "1536/1580 [============================>.] - ETA: 0s - loss: 0.1522 - regression_loss: 0.0143 - class_loss: 0.6893Epoch 00083: val_loss did not improve\n",
      "1580/1580 [==============================] - 2s - loss: 0.1519 - regression_loss: 0.0140 - class_loss: 0.6891 - val_loss: 0.1420 - val_regression_loss: 0.0028 - val_class_loss: 0.6956\n",
      "Epoch 85/100\n",
      "1536/1580 [============================>.] - ETA: 0s - loss: 0.1540 - regression_loss: 0.0156 - class_loss: 0.6920Epoch 00084: val_loss did not improve\n",
      "1580/1580 [==============================] - 2s - loss: 0.1535 - regression_loss: 0.0152 - class_loss: 0.6913 - val_loss: 0.1420 - val_regression_loss: 0.0028 - val_class_loss: 0.6958\n",
      "Epoch 86/100\n",
      "1536/1580 [============================>.] - ETA: 0s - loss: 0.1449 - regression_loss: 0.0066 - class_loss: 0.6914Epoch 00085: val_loss did not improve\n",
      "1580/1580 [==============================] - 2s - loss: 0.1448 - regression_loss: 0.0066 - class_loss: 0.6913 - val_loss: 0.1423 - val_regression_loss: 0.0032 - val_class_loss: 0.6956\n",
      "Epoch 87/100\n",
      "1536/1580 [============================>.] - ETA: 0s - loss: 0.1454 - regression_loss: 0.0070 - class_loss: 0.6922Epoch 00086: val_loss did not improve\n",
      "1580/1580 [==============================] - 2s - loss: 0.1453 - regression_loss: 0.0069 - class_loss: 0.6924 - val_loss: 0.1421 - val_regression_loss: 0.0031 - val_class_loss: 0.6953\n",
      "Epoch 88/100\n",
      "1536/1580 [============================>.] - ETA: 0s - loss: 0.1458 - regression_loss: 0.0081 - class_loss: 0.6883Epoch 00087: val_loss improved from 0.14195 to 0.14185, saving model to model.hdf5\n",
      "1580/1580 [==============================] - 2s - loss: 0.1459 - regression_loss: 0.0082 - class_loss: 0.6886 - val_loss: 0.1419 - val_regression_loss: 0.0028 - val_class_loss: 0.6952\n",
      "Epoch 89/100\n",
      "1536/1580 [============================>.] - ETA: 0s - loss: 0.1445 - regression_loss: 0.0065 - class_loss: 0.6897Epoch 00088: val_loss did not improve\n",
      "1580/1580 [==============================] - 2s - loss: 0.1444 - regression_loss: 0.0064 - class_loss: 0.6900 - val_loss: 0.1419 - val_regression_loss: 0.0029 - val_class_loss: 0.6951\n",
      "Epoch 90/100\n",
      "1536/1580 [============================>.] - ETA: 0s - loss: 0.1474 - regression_loss: 0.0095 - class_loss: 0.6895Epoch 00089: val_loss did not improve\n",
      "1580/1580 [==============================] - 2s - loss: 0.1480 - regression_loss: 0.0099 - class_loss: 0.6903 - val_loss: 0.1420 - val_regression_loss: 0.0030 - val_class_loss: 0.6948\n",
      "Epoch 91/100\n",
      "1536/1580 [============================>.] - ETA: 0s - loss: 0.1485 - regression_loss: 0.0108 - class_loss: 0.6884Epoch 00090: val_loss improved from 0.14185 to 0.14169, saving model to model.hdf5\n",
      "1580/1580 [==============================] - 2s - loss: 0.1484 - regression_loss: 0.0106 - class_loss: 0.6890 - val_loss: 0.1417 - val_regression_loss: 0.0027 - val_class_loss: 0.6947\n",
      "Epoch 92/100\n",
      "1536/1580 [============================>.] - ETA: 0s - loss: 0.1451 - regression_loss: 0.0072 - class_loss: 0.6896Epoch 00091: val_loss did not improve\n",
      "1580/1580 [==============================] - 2s - loss: 0.1451 - regression_loss: 0.0072 - class_loss: 0.6894 - val_loss: 0.1427 - val_regression_loss: 0.0037 - val_class_loss: 0.6948\n",
      "Epoch 93/100\n",
      "1536/1580 [============================>.] - ETA: 0s - loss: 0.1505 - regression_loss: 0.0123 - class_loss: 0.6911Epoch 00092: val_loss did not improve\n",
      "1580/1580 [==============================] - 2s - loss: 0.1504 - regression_loss: 0.0122 - class_loss: 0.6911 - val_loss: 0.1422 - val_regression_loss: 0.0032 - val_class_loss: 0.6952\n",
      "Epoch 94/100\n",
      "1536/1580 [============================>.] - ETA: 0s - loss: 0.1507 - regression_loss: 0.0128 - class_loss: 0.6895Epoch 00093: val_loss did not improve\n",
      "1580/1580 [==============================] - 2s - loss: 0.1506 - regression_loss: 0.0126 - class_loss: 0.6901 - val_loss: 0.1417 - val_regression_loss: 0.0027 - val_class_loss: 0.6950\n",
      "Epoch 95/100\n",
      "1536/1580 [============================>.] - ETA: 0s - loss: 0.1523 - regression_loss: 0.0143 - class_loss: 0.6898Epoch 00094: val_loss did not improve\n",
      "1580/1580 [==============================] - 2s - loss: 0.1525 - regression_loss: 0.0145 - class_loss: 0.6900 - val_loss: 0.1422 - val_regression_loss: 0.0032 - val_class_loss: 0.6951\n",
      "Epoch 96/100\n",
      "1536/1580 [============================>.] - ETA: 0s - loss: 0.1528 - regression_loss: 0.0147 - class_loss: 0.6906Epoch 00095: val_loss improved from 0.14169 to 0.14164, saving model to model.hdf5\n",
      "1580/1580 [==============================] - 2s - loss: 0.1526 - regression_loss: 0.0144 - class_loss: 0.6908 - val_loss: 0.1416 - val_regression_loss: 0.0027 - val_class_loss: 0.6949\n",
      "Epoch 97/100\n",
      "1536/1580 [============================>.] - ETA: 0s - loss: 0.1432 - regression_loss: 0.0052 - class_loss: 0.6903Epoch 00096: val_loss did not improve\n",
      "1580/1580 [==============================] - 2s - loss: 0.1432 - regression_loss: 0.0052 - class_loss: 0.6903 - val_loss: 0.1419 - val_regression_loss: 0.0028 - val_class_loss: 0.6951\n",
      "Epoch 98/100\n",
      "1536/1580 [============================>.] - ETA: 0s - loss: 0.1429 - regression_loss: 0.0048 - class_loss: 0.6902Epoch 00097: val_loss did not improve\n",
      "1580/1580 [==============================] - 2s - loss: 0.1428 - regression_loss: 0.0048 - class_loss: 0.6898 - val_loss: 0.1417 - val_regression_loss: 0.0026 - val_class_loss: 0.6952\n",
      "Epoch 99/100\n",
      "1536/1580 [============================>.] - ETA: 0s - loss: 0.1504 - regression_loss: 0.0123 - class_loss: 0.6906Epoch 00098: val_loss improved from 0.14164 to 0.14147, saving model to model.hdf5\n",
      "1580/1580 [==============================] - 2s - loss: 0.1503 - regression_loss: 0.0122 - class_loss: 0.6906 - val_loss: 0.1415 - val_regression_loss: 0.0024 - val_class_loss: 0.6954\n",
      "Epoch 100/100\n",
      "1536/1580 [============================>.] - ETA: 0s - loss: 0.1439 - regression_loss: 0.0057 - class_loss: 0.6907Epoch 00099: val_loss did not improve\n",
      "1580/1580 [==============================] - 2s - loss: 0.1438 - regression_loss: 0.0057 - class_loss: 0.6908 - val_loss: 0.1415 - val_regression_loss: 0.0024 - val_class_loss: 0.6953\n"
     ]
    },
    {
     "name": "stderr",
     "output_type": "stream",
     "text": [
      "/Library/Frameworks/Python.framework/Versions/3.5/lib/python3.5/site-packages/ipykernel/__main__.py:6: UserWarning: The `nb_epoch` argument in `fit` has been renamed `epochs`.\n"
     ]
    },
    {
     "data": {
      "image/png": "[encoded data removed]",
      "text/plain": [
       "<matplotlib.figure.Figure at 0x1382bea58>"
      ]
     },
     "metadata": {},
     "output_type": "display_data"
    }
   ],
   "source": [
    "history = final_model.fit([X_train, X_train_text], [Y_train, Y_train2],\n",
    "        nb_epoch = 100, \n",
    "        batch_size = 256, \n",
    "        verbose=1, \n",
    "        validation_data=([X_test, X_test_text], [Y_test, Y_test2]), \n",
    "        callbacks=[reduce_lr, checkpointer], shuffle=True)\n",
    "\n",
    "plt.figure()\n",
    "plt.plot(history.history['loss'])\n",
    "plt.plot(history.history['val_loss'])\n",
    "plt.title('model loss')\n",
    "plt.ylabel('loss')\n",
    "plt.xlabel('epoch')\n",
    "plt.legend(['train', 'test'], loc='best')\n",
    "plt.show()"
   ]
  },
  {
   "cell_type": "code",
   "execution_count": 131,
   "metadata": {
    "collapsed": false
   },
   "outputs": [
    {
     "name": "stderr",
     "output_type": "stream",
     "text": [
      "/Library/Frameworks/Python.framework/Versions/3.5/lib/python3.5/site-packages/matplotlib/axes/_axes.py:545: UserWarning: No labelled objects found. Use label='...' kwarg on individual plots.\n",
      "  warnings.warn(\"No labelled objects found. \"\n"
     ]
    },
    {
     "data": {
      "image/png": "[encoded data removed]",
      "text/plain": [
       "<matplotlib.figure.Figure at 0x1383d0a58>"
      ]
     },
     "metadata": {},
     "output_type": "display_data"
    },
    {
     "name": "stdout",
     "output_type": "stream",
     "text": [
      "0.0188202172326\n",
      "0.0729423060054\n",
      "3.32715254069\n"
     ]
    }
   ],
   "source": [
    "final_model.load_weights(\"model.hdf5\")\n",
    "pred = final_model.predict([X_test, X_test_text])[0]\n",
    "\n",
    "predicted = pred\n",
    "original = Y_test\n",
    "\n",
    "plt.title('Actual and predicted')\n",
    "plt.legend(loc='best')\n",
    "plt.plot(original, color='black', label = 'Original data')\n",
    "plt.plot(pred, color='blue', label = 'Predicted data')\n",
    "plt.show()\n",
    "\n",
    "\n",
    "print(np.mean(np.square(predicted - original)))\n",
    "print(np.mean(np.abs(predicted - original)))\n",
    "print(np.mean(np.abs((original - predicted) / original)))"
   ]
  },
  {
   "cell_type": "code",
   "execution_count": null,
   "metadata": {
    "collapsed": true
   },
   "outputs": [],
   "source": []
  }
 ],
 "metadata": {
  "kernelspec": {
   "display_name": "Python 3",
   "language": "python",
   "name": "python3"
  },
  "language_info": {
   "codemirror_mode": {
    "name": "ipython",
    "version": 3
   },
   "file_extension": ".py",
   "mimetype": "text/x-python",
   "name": "python",
   "nbconvert_exporter": "python",
   "pygments_lexer": "ipython3",
   "version": "3.5.4"
  }
 },
 "nbformat": 4,
 "nbformat_minor": 0
}
