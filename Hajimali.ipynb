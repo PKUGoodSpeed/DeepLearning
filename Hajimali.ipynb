{
 "cells": [
  {
   "cell_type": "markdown",
   "metadata": {},
   "source": [
    "## Convolutional graphs\n",
    "###### Using np to realize backward propagation in convolutional network"
   ]
  },
  {
   "cell_type": "code",
   "execution_count": 2,
   "metadata": {
    "collapsed": true
   },
   "outputs": [],
   "source": [
    "import numpy as np"
   ]
  },
  {
   "cell_type": "markdown",
   "metadata": {},
   "source": [
    "##### Testing summing up operations"
   ]
  },
  {
   "cell_type": "code",
   "execution_count": 3,
   "metadata": {
    "collapsed": true
   },
   "outputs": [],
   "source": [
    "np.random.seed(0)"
   ]
  },
  {
   "cell_type": "code",
   "execution_count": 7,
   "metadata": {
    "collapsed": false
   },
   "outputs": [],
   "source": [
    "H = 4\n",
    "W = 3"
   ]
  },
  {
   "cell_type": "code",
   "execution_count": 15,
   "metadata": {
    "collapsed": false
   },
   "outputs": [
    {
     "name": "stdout",
     "output_type": "stream",
     "text": [
      "[[ 1.86755896  0.90604466 -0.86122569]\n",
      " [ 1.91006495 -0.26800337  0.8024564 ]\n",
      " [ 0.94725197 -0.15501009  0.61407937]\n",
      " [ 0.92220667  0.37642553 -1.09940079]] \n",
      " [[ 0.29823817  1.3263859  -0.69456786]\n",
      " [-0.14963454 -0.43515355  1.84926373]\n",
      " [ 0.67229476  0.40746184 -0.76991607]\n",
      " [ 0.53924919 -0.67433266  0.03183056]] \n",
      " [[-0.63584608  0.67643329  0.57659082]\n",
      " [-0.20829876  0.39600671 -1.09306151]\n",
      " [-1.49125759  0.4393917   0.1666735 ]\n",
      " [ 0.63503144  2.38314477  0.94447949]]\n"
     ]
    }
   ],
   "source": [
    "x = np.random.randn(H,W)\n",
    "y = np.random.randn(H,W)\n",
    "z = np.random.randn(H,W)\n",
    "print(x,'\\n',y,'\\n',z)"
   ]
  },
  {
   "cell_type": "code",
   "execution_count": 25,
   "metadata": {
    "collapsed": false
   },
   "outputs": [
    {
     "name": "stdout",
     "output_type": "stream",
     "text": [
      "[[ 0.55697737  1.20176486  0.59817968]\n",
      " [-0.28581169  0.11662262  1.48395351]\n",
      " [ 0.63683253 -0.0631607  -0.47278958]\n",
      " [ 0.4972992  -0.25383603 -0.03499454]] \n",
      " [[-0.0788687   1.87819815  1.1747705 ]\n",
      " [-0.49411045  0.51262933  0.390892  ]\n",
      " [-0.85442506  0.376231   -0.30611608]\n",
      " [ 1.13233064  2.12930874  0.90948495]]\n"
     ]
    }
   ],
   "source": [
    "a = x * y\n",
    "b = a + z\n",
    "print(a,'\\n',b)"
   ]
  },
  {
   "cell_type": "code",
   "execution_count": 26,
   "metadata": {
    "collapsed": false
   },
   "outputs": [
    {
     "name": "stdout",
     "output_type": "stream",
     "text": [
      "6.77032501711\n"
     ]
    }
   ],
   "source": [
    "c = np.sum(b)\n",
    "print(c)"
   ]
  },
  {
   "cell_type": "markdown",
   "metadata": {},
   "source": [
    "###### Using back path to compute derivatives"
   ]
  },
  {
   "cell_type": "code",
   "execution_count": 22,
   "metadata": {
    "collapsed": false
   },
   "outputs": [
    {
     "name": "stdout",
     "output_type": "stream",
     "text": [
      "1.0\n",
      "[[ 1.  1.  1.]\n",
      " [ 1.  1.  1.]\n",
      " [ 1.  1.  1.]\n",
      " [ 1.  1.  1.]]\n",
      "[[ 1.  1.  1.]\n",
      " [ 1.  1.  1.]\n",
      " [ 1.  1.  1.]\n",
      " [ 1.  1.  1.]]\n"
     ]
    }
   ],
   "source": [
    "grad_c = 1.\n",
    "grad_b = grad_c * np.ones((H,W))\n",
    "grad_a = grad_b.copy()\n",
    "print(grad_c)\n",
    "print(grad_b)\n",
    "print(grad_a)"
   ]
  },
  {
   "cell_type": "code",
   "execution_count": 27,
   "metadata": {
    "collapsed": false
   },
   "outputs": [
    {
     "name": "stdout",
     "output_type": "stream",
     "text": [
      "[[ 1.  1.  1.]\n",
      " [ 1.  1.  1.]\n",
      " [ 1.  1.  1.]\n",
      " [ 1.  1.  1.]]\n",
      "[[ 1.86755896  0.90604466 -0.86122569]\n",
      " [ 1.91006495 -0.26800337  0.8024564 ]\n",
      " [ 0.94725197 -0.15501009  0.61407937]\n",
      " [ 0.92220667  0.37642553 -1.09940079]]\n",
      "[[ 0.29823817  1.3263859  -0.69456786]\n",
      " [-0.14963454 -0.43515355  1.84926373]\n",
      " [ 0.67229476  0.40746184 -0.76991607]\n",
      " [ 0.53924919 -0.67433266  0.03183056]]\n"
     ]
    }
   ],
   "source": [
    "grad_z = grad_b.copy()\n",
    "grad_x = grad_a*y\n",
    "grad_y = grad_a*x\n",
    "print(grad_z)\n",
    "print(grad_y)\n",
    "print(grad_x)"
   ]
  },
  {
   "cell_type": "markdown",
   "metadata": {},
   "source": [
    "###### The disadvantage of numpy is that (1) it cannot be used in GPU; (2) have to compute our own gradients one by one"
   ]
  },
  {
   "cell_type": "code",
   "execution_count": null,
   "metadata": {
    "collapsed": true
   },
   "outputs": [],
   "source": []
  }
 ],
 "metadata": {
  "kernelspec": {
   "display_name": "Python 3",
   "language": "python",
   "name": "python3"
  },
  "language_info": {
   "codemirror_mode": {
    "name": "ipython",
    "version": 3
   },
   "file_extension": ".py",
   "mimetype": "text/x-python",
   "name": "python",
   "nbconvert_exporter": "python",
   "pygments_lexer": "ipython3",
   "version": "3.5.4"
  }
 },
 "nbformat": 4,
 "nbformat_minor": 0
}
