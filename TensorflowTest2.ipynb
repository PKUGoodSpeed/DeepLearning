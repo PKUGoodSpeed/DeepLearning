{
 "cells": [
  {
   "cell_type": "code",
   "execution_count": 1,
   "metadata": {
    "collapsed": true
   },
   "outputs": [],
   "source": [
    "import numpy as np\n",
    "np.random.seed(0)\n",
    "import tensorflow as tf"
   ]
  },
  {
   "cell_type": "code",
   "execution_count": 2,
   "metadata": {
    "collapsed": false
   },
   "outputs": [
    {
     "name": "stdout",
     "output_type": "stream",
     "text": [
      "<tf.Variable 'Variable:0' shape=(1000, 100) dtype=float32_ref> <tf.Variable 'Variable_1:0' shape=(100, 1000) dtype=float32_ref>\n"
     ]
    }
   ],
   "source": [
    "N, D, H = 64, 1000, 100\n",
    "x = tf.placeholder(tf.float32, shape = (N,D))\n",
    "y = tf.placeholder(tf.float32, shape = (N,D))\n",
    "w1 = tf.Variable(tf.random_normal((D, H)))\n",
    "w2 = tf.Variable(tf.random_normal((H,D)))\n",
    "print (w1,w2)"
   ]
  },
  {
   "cell_type": "markdown",
   "metadata": {},
   "source": [
    "Here we use variable insteady of placeholders for the weights."
   ]
  },
  {
   "cell_type": "code",
   "execution_count": 51,
   "metadata": {
    "collapsed": true
   },
   "outputs": [],
   "source": [
    "h = tf.maximum(tf.matmul(x,w1), 0)\n",
    "y_pred = tf.matmul(h,w2)\n",
    "diff = y_pred - y\n",
    "#loss = tf.reduce_mean(tf.reduce_sum(diff**2,axis = 1))\n",
    "loss = tf.losses.mean_squared_error(y_pred, y)\n",
    "grad_w1, grad_w2 = tf.gradients(loss,[w1,w2])"
   ]
  },
  {
   "cell_type": "markdown",
   "metadata": {},
   "source": [
    "###### Do training"
   ]
  },
  {
   "cell_type": "code",
   "execution_count": 32,
   "metadata": {
    "collapsed": false
   },
   "outputs": [
    {
     "name": "stdout",
     "output_type": "stream",
     "text": [
      "Tensor(\"Assign_6:0\", shape=(1000, 100), dtype=float32_ref) Tensor(\"Assign_7:0\", shape=(100, 1000), dtype=float32_ref)\n",
      "name: \"group_deps_2\"\n",
      "op: \"NoOp\"\n",
      "input: \"^Assign_6\"\n",
      "input: \"^Assign_7\"\n",
      "\n"
     ]
    }
   ],
   "source": [
    "learning_rate = 1.e-5\n",
    "new_w1 = w1.assign(w1 - learning_rate*grad_w1)\n",
    "new_w2 = w2.assign(w2 - learning_rate*grad_w2)\n",
    "print(new_w1, new_w2)\n",
    "updates = tf.group(new_w1,new_w2) \n",
    "print(updates)\n",
    "#Add dummy graph node that depends on updates"
   ]
  },
  {
   "cell_type": "code",
   "execution_count": 33,
   "metadata": {
    "collapsed": false
   },
   "outputs": [],
   "source": [
    "t_list = []\n",
    "l_list = []\n",
    "with tf.Session() as sess:\n",
    "    \"\"\"Run graph once to initialize w1 and w2\"\"\"\n",
    "    sess.run(tf.global_variables_initializer())\n",
    "    values = {\n",
    "        x: np.random.randn(N,D),\n",
    "        y: np.random.randn(N,D),\n",
    "    }\n",
    "    for t in range(50):\n",
    "        \"\"\"Run many times to train\"\"\"\n",
    "        loss_val,up_weights =sess.run([loss,updates], feed_dict=values)\n",
    "        t_list.append(t)\n",
    "        l_list.append(loss_val)"
   ]
  },
  {
   "cell_type": "code",
   "execution_count": 37,
   "metadata": {
    "collapsed": false
   },
   "outputs": [
    {
     "name": "stdout",
     "output_type": "stream",
     "text": [
      "shaocong is married\n",
      "Tensor(\"Mean:0\", shape=(), dtype=float32)\n"
     ]
    }
   ],
   "source": [
    "'''show data'''\n",
    "print(\"shaocong is married\")\n",
    "print(loss)"
   ]
  },
  {
   "cell_type": "code",
   "execution_count": 35,
   "metadata": {
    "collapsed": true
   },
   "outputs": [],
   "source": [
    "import matplotlib\n",
    "import matplotlib.pyplot as plt\n",
    "import matplotlib as mpl\n",
    "%matplotlib inline \n",
    "\n",
    "mpl.rc('font',family='Times New Roman',size = 25)\n",
    "mpl.rcParams['xtick.major.size'] = 5\n",
    "mpl.rcParams['xtick.minor.size'] = 2\n",
    "mpl.rcParams['ytick.major.size'] = 5\n",
    "mpl.rcParams['ytick.minor.size'] = 2"
   ]
  },
  {
   "cell_type": "code",
   "execution_count": 36,
   "metadata": {
    "collapsed": false
   },
   "outputs": [
    {
     "data": {
      "image/png": "[encoded data removed]",
      "text/plain": [
       "<matplotlib.figure.Figure at 0x113e52278>"
      ]
     },
     "metadata": {},
     "output_type": "display_data"
    }
   ],
   "source": [
    "fig,ax  = plt.subplots(1,2,figsize=(16,6))\n",
    "ax[0].scatter(t_list, l_list)\n",
    "ax[0].set_xlabel(\"Number of steps\")\n",
    "ax[0].set_ylabel(\"Loss function\")\n",
    "ax[1].scatter(t_list, l_list)\n",
    "ax[1].set_xlabel(\"Number of steps\")\n",
    "#ax[1].set_ylabel(\"Loss function\")\n",
    "ax[1].set_yscale(\"log\")\n",
    "plt.show()"
   ]
  },
  {
   "cell_type": "markdown",
   "metadata": {},
   "source": [
    "##### Without doing the opimization by hand, Tensorflow provide some convenient ways of doing trainings"
   ]
  },
  {
   "cell_type": "code",
   "execution_count": 56,
   "metadata": {
    "collapsed": true
   },
   "outputs": [],
   "source": [
    "optimizer = tf.train.GradientDescentOptimizer(1.e-3)\n",
    "updates = optimizer.minimize(loss)"
   ]
  },
  {
   "cell_type": "code",
   "execution_count": 57,
   "metadata": {
    "collapsed": false
   },
   "outputs": [],
   "source": [
    "t_list = []\n",
    "l_list = []\n",
    "with tf.Session() as sess:\n",
    "    # initialize w1 and w2\n",
    "    sess.run(tf.global_variables_initializer())\n",
    "    values = {\n",
    "        x: np.random.randn(N, D),\n",
    "        y: np.random.randn(N, D),\n",
    "    }\n",
    "    for t in range(50):\n",
    "        loss_val,op_val = sess.run([loss, updates], feed_dict = values)\n",
    "        t_list.append(t)\n",
    "        l_list.append(loss_val)"
   ]
  },
  {
   "cell_type": "code",
   "execution_count": 58,
   "metadata": {
    "collapsed": false
   },
   "outputs": [
    {
     "name": "stdout",
     "output_type": "stream",
     "text": [
      "None\n"
     ]
    }
   ],
   "source": [
    "print(op_val)"
   ]
  },
  {
   "cell_type": "code",
   "execution_count": 59,
   "metadata": {
    "collapsed": false
   },
   "outputs": [
    {
     "data": {
      "image/png": "[encoded data removed]",
      "text/plain": [
       "<matplotlib.figure.Figure at 0x1135e9a20>"
      ]
     },
     "metadata": {},
     "output_type": "display_data"
    }
   ],
   "source": [
    "fig,ax  = plt.subplots(1,2,figsize=(16,6))\n",
    "ax[0].scatter(t_list, l_list)\n",
    "ax[0].set_xlabel(\"Number of steps\")\n",
    "ax[0].set_ylabel(\"Loss function\")\n",
    "ax[1].scatter(t_list, l_list)\n",
    "ax[1].set_xlabel(\"Number of steps\")\n",
    "#ax[1].set_ylabel(\"Loss function\")\n",
    "ax[1].set_yscale(\"log\")\n",
    "plt.show()"
   ]
  },
  {
   "cell_type": "code",
   "execution_count": null,
   "metadata": {
    "collapsed": true
   },
   "outputs": [],
   "source": []
  },
  {
   "cell_type": "code",
   "execution_count": null,
   "metadata": {
    "collapsed": true
   },
   "outputs": [],
   "source": []
  }
 ],
 "metadata": {
  "kernelspec": {
   "display_name": "Python 3",
   "language": "python",
   "name": "python3"
  },
  "language_info": {
   "codemirror_mode": {
    "name": "ipython",
    "version": 3
   },
   "file_extension": ".py",
   "mimetype": "text/x-python",
   "name": "python",
   "nbconvert_exporter": "python",
   "pygments_lexer": "ipython3",
   "version": "3.5.4"
  }
 },
 "nbformat": 4,
 "nbformat_minor": 0
}
